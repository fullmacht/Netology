{
 "cells": [
  {
   "cell_type": "code",
   "execution_count": null,
   "metadata": {
    "collapsed": true
   },
   "outputs": [],
   "source": [
    "import numpy as np\n",
    "from sklearn.decomposition import PCA\n",
    "from sklearn.linear_model import LogisticRegression\n",
    "from sklearn.metrics import accuracy_score\n",
    "from sklearn.model_selection import train_test_split"
   ]
  },
  {
   "cell_type": "code",
   "execution_count": null,
   "outputs": [],
   "source": [
    "train = np.loadtxt(r'C:\\Users\\pc\\PycharmProjects\\Netology\\Classwork\\CV\\002\\data\\digit\\train.csv', delimiter=',', skiprows=1)\n",
    "\n",
    "train_label = train[:, 0]\n",
    "\n",
    "train_img = np.reshape(train[:, 1:], (len(train[:, 1:]), 28, 28))\n",
    "\n",
    "choices = np.random.choice(train_img.shape[0], 10000)\n",
    "\n",
    "y = train_label[choices]\n",
    "X = train_img[choices].reshape(-1, 28 * 28).astype(np.float32)"
   ],
   "metadata": {
    "collapsed": false,
    "pycharm": {
     "name": "#%%\n"
    }
   }
  },
  {
   "cell_type": "code",
   "execution_count": null,
   "outputs": [],
   "source": [
    "X_mean = X.mean(axis=0)\n",
    "X -= X_mean"
   ],
   "metadata": {
    "collapsed": false,
    "pycharm": {
     "name": "#%%\n"
    }
   }
  },
  {
   "cell_type": "code",
   "execution_count": null,
   "outputs": [],
   "source": [
    "cumsum_list = []\n",
    "number_of_components = list(range(25,200))\n",
    "def pca(comp):\n",
    "    pca = PCA(n_components=comp)\n",
    "    pca.fit(X)\n",
    "    S = pca.explained_variance_ratio_\n",
    "    S = sum(S)\n",
    "    V = pca.components_\n",
    "    return V\n",
    "\n",
    "v = pca(784)"
   ],
   "metadata": {
    "collapsed": false,
    "pycharm": {
     "name": "#%%\n"
    }
   }
  },
  {
   "cell_type": "code",
   "execution_count": null,
   "outputs": [],
   "source": [
    "Xrot_reduced = np.dot(X, v[:, :150])\n",
    "print(Xrot_reduced.shape,y.shape)"
   ],
   "metadata": {
    "collapsed": false,
    "pycharm": {
     "name": "#%%\n"
    }
   }
  },
  {
   "cell_type": "code",
   "execution_count": null,
   "outputs": [],
   "source": [
    "x_train, x_test, y_train, y_test = train_test_split(Xrot_reduced,y,test_size=0.3,random_state=1)"
   ],
   "metadata": {
    "collapsed": false,
    "pycharm": {
     "name": "#%%\n"
    }
   }
  },
  {
   "cell_type": "code",
   "execution_count": null,
   "outputs": [],
   "source": [
    "lr = LogisticRegression(random_state=1,n_jobs=-1,penalty='l2')\n",
    "lr.fit(x_train,y_train)\n",
    "y_pred = lr.predict(x_test)\n",
    "\n",
    "print('accuracy',accuracy_score(y_test,y_pred))\n",
    "# accuracy 0,844"
   ],
   "metadata": {
    "collapsed": false,
    "pycharm": {
     "name": "#%%\n"
    }
   }
  }
 ],
 "metadata": {
  "kernelspec": {
   "display_name": "Python 3",
   "language": "python",
   "name": "python3"
  },
  "language_info": {
   "codemirror_mode": {
    "name": "ipython",
    "version": 2
   },
   "file_extension": ".py",
   "mimetype": "text/x-python",
   "name": "python",
   "nbconvert_exporter": "python",
   "pygments_lexer": "ipython2",
   "version": "2.7.6"
  }
 },
 "nbformat": 4,
 "nbformat_minor": 0
}