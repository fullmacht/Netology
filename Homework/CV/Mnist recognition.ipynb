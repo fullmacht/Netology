{
 "cells": [
  {
   "cell_type": "code",
   "execution_count": 34,
   "metadata": {
    "collapsed": true
   },
   "outputs": [],
   "source": [
    "import numpy as np\n",
    "from sklearn.decomposition import PCA\n",
    "from sklearn.linear_model import LogisticRegression\n",
    "from sklearn.metrics import accuracy_score\n",
    "from sklearn.model_selection import train_test_split"
   ]
  },
  {
   "cell_type": "code",
   "execution_count": 35,
   "outputs": [],
   "source": [
    "test = np.loadtxt(r'C:\\Users\\pc\\PycharmProjects\\Netology\\Classwork\\CV\\002\\data\\digit\\test.csv', delimiter=',', skiprows=1)\n",
    "train = np.loadtxt(r'C:\\Users\\pc\\PycharmProjects\\Netology\\Classwork\\CV\\002\\data\\digit\\train.csv', delimiter=',', skiprows=1)\n",
    "\n",
    "y = train[:, 0]\n",
    "Y_val = y[0:28000:]\n",
    "\n",
    "train_img = np.reshape(train[:, 1:], (len(train[:, 1:]), 28, 28))\n",
    "test_img = np.reshape(test[:,:], (len(test[:,:]), 28, 28))\n",
    "\n",
    "X = train_img[::].reshape(-1, 28 * 28).astype(np.float32)\n",
    "X_test = test[::].reshape(-1, 28 * 28).astype(np.float32)\n",
    "\n",
    "#этот код для выборки как в примере у вас random 10000 samples\n",
    "\n",
    "# choices = np.random.choice(train_img.shape[0], 10000)\n",
    "\n",
    "# y3 = train_label[choices]\n",
    "# X3 = train_img[choices].reshape(-1, 28 * 28).astype(np.float32)\n"
   ],
   "metadata": {
    "collapsed": false,
    "pycharm": {
     "name": "#%%\n"
    }
   }
  },
  {
   "cell_type": "code",
   "execution_count": 36,
   "outputs": [],
   "source": [
    "# центрируем данные\n",
    "X_mean = X.mean(axis=0)\n",
    "X -= X_mean\n",
    "\n",
    "# X_mean = X3.mean(axis=0)\n",
    "# X3 -= X_mean\n",
    "\n",
    "X_test = X_test.astype('float32')\n",
    "X_test_mean = X_test.mean(axis=0)\n",
    "X_test -= X_test_mean"
   ],
   "metadata": {
    "collapsed": false,
    "pycharm": {
     "name": "#%%\n"
    }
   }
  },
  {
   "cell_type": "code",
   "execution_count": 37,
   "outputs": [],
   "source": [
    "cov = np.dot(X.T, X) / X.shape[0]\n",
    "cov2 = np.dot(X_test.T, X_test) / X_test.shape[0]\n",
    "# cov3 = np.dot(X3.T, X3) / X3.shape[0]\n",
    "\n",
    "\n",
    "# print(x)"
   ],
   "metadata": {
    "collapsed": false,
    "pycharm": {
     "name": "#%%\n"
    }
   }
  },
  {
   "cell_type": "code",
   "execution_count": 38,
   "outputs": [],
   "source": [
    "U, S, _ = np.linalg.svd(cov)\n",
    "U2, S2, _ = np.linalg.svd(cov2)\n",
    "# U3, S3, _ = np.linalg.svd(cov3)"
   ],
   "metadata": {
    "collapsed": false,
    "pycharm": {
     "name": "#%%\n"
    }
   }
  },
  {
   "cell_type": "code",
   "execution_count": 39,
   "outputs": [],
   "source": [
    "S_cumsum = np.cumsum(S) / np.sum(S)\n",
    "S_cumsum2 = np.cumsum(S2) / np.sum(S2)\n",
    "# S_cumsum3 = np.cumsum(S3) / np.sum(S3)\n"
   ],
   "metadata": {
    "collapsed": false,
    "pycharm": {
     "name": "#%%\n"
    }
   }
  },
  {
   "cell_type": "code",
   "execution_count": 40,
   "outputs": [
    {
     "name": "stdout",
     "output_type": "stream",
     "text": [
      "[000] 0.097\n",
      "[001] 0.169\n",
      "[002] 0.231\n",
      "[003] 0.284\n",
      "[004] 0.333\n"
     ]
    }
   ],
   "source": [
    "for i in range(5):\n",
    "    print('[%03d] %.3f' % (i, S_cumsum[i]))"
   ],
   "metadata": {
    "collapsed": false,
    "pycharm": {
     "name": "#%%\n"
    }
   }
  },
  {
   "cell_type": "code",
   "execution_count": 41,
   "outputs": [],
   "source": [
    "S_thr = 0.60  # задаем порог для накопленной суммы собственных значений\n",
    "\n",
    "# определяем необходимое число компонент для заданного порога\n",
    "n_comp = np.argmax(np.where(S_cumsum > S_thr, 1, 0))\n",
    "n_comp2 = np.argmax(np.where(S_cumsum2 > S_thr, 1, 0))\n",
    "n_comp3 = np.argmax(np.where(S_cumsum2 > S_thr, 1, 0))\n"
   ],
   "metadata": {
    "collapsed": false,
    "pycharm": {
     "name": "#%%\n"
    }
   }
  },
  {
   "cell_type": "code",
   "execution_count": 42,
   "outputs": [],
   "source": [
    "X_test_reduced = np.dot(X_test, U[:, :n_comp])\n",
    "Xrot_reduced = np.dot(X, U2[:, :n_comp2])\n",
    "# X3_reduced = np.dot(X3, U3[:, :n_comp3])"
   ],
   "metadata": {
    "collapsed": false,
    "pycharm": {
     "name": "#%%\n"
    }
   }
  },
  {
   "cell_type": "code",
   "execution_count": 43,
   "outputs": [],
   "source": [
    "# all samples\n",
    "x_train,x_val, y_train,y_val = train_test_split(Xrot_reduced, y, test_size = 0.1, random_state=1)\n",
    "\n",
    "# random 10000 samples\n",
    "# x_train, x_val, y_train, y_val = train_test_split(X3_reduced, y3, test_size =0.1 , random_state=1)"
   ],
   "metadata": {
    "collapsed": false,
    "pycharm": {
     "name": "#%%\n"
    }
   }
  },
  {
   "cell_type": "code",
   "execution_count": 44,
   "outputs": [
    {
     "name": "stdout",
     "output_type": "stream",
     "text": [
      "(28000,)\n",
      "accuracy 0.10160714285714285\n"
     ]
    }
   ],
   "source": [
    "lr = LogisticRegression(random_state=1,n_jobs=-1,penalty='l2')\n",
    "lr.fit(x_train,y_train)\n",
    "y_pred = lr.predict(X_test_reduced)\n",
    "\n",
    "print(y_pred.shape)\n",
    "\n",
    "print('accuracy',accuracy_score(Y_val,y_pred))\n",
    "y_pred = y_pred.astype(int)"
   ],
   "metadata": {
    "collapsed": false,
    "pycharm": {
     "name": "#%%\n"
    }
   }
  },
  {
   "cell_type": "code",
   "execution_count": 45,
   "outputs": [],
   "source": [
    "with open('submit.txt', 'w') as dst:\n",
    "    dst.write('ImageId,Label\\n')\n",
    "    for i, p in enumerate(y_pred, 1):\n",
    "        dst.write('%s,%s\\n' % (i, p))\n",
    "\n"
   ],
   "metadata": {
    "collapsed": false,
    "pycharm": {
     "name": "#%%\n"
    }
   }
  }
 ],
 "metadata": {
  "kernelspec": {
   "display_name": "Python 3",
   "language": "python",
   "name": "python3"
  },
  "language_info": {
   "codemirror_mode": {
    "name": "ipython",
    "version": 2
   },
   "file_extension": ".py",
   "mimetype": "text/x-python",
   "name": "python",
   "nbconvert_exporter": "python",
   "pygments_lexer": "ipython2",
   "version": "2.7.6"
  }
 },
 "nbformat": 4,
 "nbformat_minor": 0
}