{
 "cells": [
  {
   "cell_type": "markdown",
   "metadata": {},
   "source": [
    "Лабораторная работа по модулю “Построение моделей”\n",
    "\n",
    "В данной работе предлагается решить задачу мультиклассовойклассификации для датасета флагов различных стран (https://archive.ics.uci.edu/ml/datasets/Flags)\n",
    "\n",
    "1. Загрузить данные из папки Data Folder\n",
    "2. Провести описательный анализ предложенных данных\n",
    "3. Предложить стратегию по работе с категориальными переменными \n",
    "4. Провести углубленный анализ данных (корреляции переменных,визуализация взаимосвязей)\n",
    "5. Следует ли увеличивать/уменьшать размерность признакового множества (какой подход выдает лучшие результаты)\n",
    "6. Следует ли балансировать классы путем oversampling/undersampling? (улучшает ли подход результаты)\n",
    "7. Сделать кросс-валидациюданных с использованием подхода K-fold (n_folds=3)\n",
    "8. Решить задачу мультиклассовойклассификации и предсказать религию страны(religion)по деталям ее флага \n",
    "9. РассчитатьFeature Importancesдля переменных модели\n",
    "10. Проверить качество классификации с использованием следующих метрик: Accuracy, F1-Score, Precision, Recall\n",
    "11. Построить Confusion Matrix для ваших результатов\n",
    "12. Загрузить ipythonnotebook с результатами работы на githubрепозиторий\n",
    "*Пункты,показавшиеся вам сложными,либо которые вы не знаете можно пропускать,но с пометкой в ноутбуке,чтопоказалось сложным и непонятным в данном пункте для вас"
   ]
  },
  {
   "cell_type": "markdown",
   "metadata": {},
   "source": [
    "Dataset description:\n",
    "Attribute Information:\n",
    "1. name\tName of the country concerned\n",
    "2. landmass\t1=N.America, 2=S.America, 3=Europe, 4=Africa, 4=Asia, 6=Oceania\n",
    "3. zone\tGeographic quadrant, based on Greenwich and the Equator 1=NE, 2=SE, 3=SW, 4=NW\n",
    "4. area\tin thousands of square km\n",
    "5. population\tin round millions\n",
    "6. language 1=English, 2=Spanish, 3=French, 4=German, 5=Slavic, 6=Other Indo-European, 7=Chinese, 8=Arabic, 9=Japanese/Turkish/Finnish/Magyar, 10=Others\n",
    "7. religion 0=Catholic, 1=Other Christian, 2=Muslim, 3=Buddhist, 4=Hindu,5=Ethnic, 6=Marxist, 7=Others\n",
    "8. bars     Number of vertical bars in the flag\n",
    "9. stripes  Number of horizontal stripes in the flag\n",
    "10. colours  Number of different colours in the flag\n",
    "11. red      0 if red absent, 1 if red present in the flag\n",
    "12. green    same for green\n",
    "13. blue     same for blue\n",
    "14. gold     same for gold (also yellow)\n",
    "15. white    same for white\n",
    "16. black    same for black\n",
    "17. orange   same for orange (also brown)\n",
    "18. mainhue  predominant colour in the flag (tie-breaks decided by taking the topmost hue, if that fails then the most central hue, and if that fails the leftmost hue)\n",
    "19. circles  Number of circles in the flag\n",
    "20. crosses  Number of (upright) crosses\n",
    "21. saltires Number of diagonal crosses\n",
    "22. quarters Number of quartered sections\n",
    "23. sunstars Number of sun or star symbols\n",
    "24. crescent 1 if a crescent moon symbol present, else 0\n",
    "25. triangle 1 if any triangles present, 0 otherwise\n",
    "26. icon     1 if an inanimate image present (e.g., a boat), otherwise 0\n",
    "27. animate  1 if an animate image (e.g., an eagle, a tree, a human hand)  present, 0 otherwise\n",
    "28. text     1 if any letters or writing on the flag (e.g., a motto or slogan), 0 otherwise\n",
    "29. topleft  colour in the top-left corner (moving right to decide tie-breaks)\n",
    "30. botright Colour in the bottom-left corner (moving left to decide tie-breaks)\n",
    "\n",
    "No missing values"
   ]
  },
  {
   "cell_type": "code",
   "execution_count": 3,
   "metadata": {},
   "outputs": [],
   "source": [
    "cols = ['name','landmass','zone','area','population','language','religion','bars','stripes',\n",
    "       'colours','red','green','blue','gold','white','black','orange','mainhue','circles',\n",
    "       'crosses','saltires','quarters','sunstars','crescent','triangle','icon','animate',\n",
    "       'text','topleft','botright']"
   ]
  },
  {
   "cell_type": "code",
   "execution_count": 4,
   "metadata": {},
   "outputs": [
    {
     "data": {
      "text/plain": "             name  landmass  zone  area  population  language  religion  bars  \\\n0     Afghanistan         5     1   648          16        10         2     0   \n1         Albania         3     1    29           3         6         6     0   \n2         Algeria         4     1  2388          20         8         2     2   \n3  American-Samoa         6     3     0           0         1         1     0   \n4         Andorra         3     1     0           0         6         0     3   \n\n   stripes  colours  ...  saltires  quarters  sunstars  crescent  triangle  \\\n0        3        5  ...         0         0         1         0         0   \n1        0        3  ...         0         0         1         0         0   \n2        0        3  ...         0         0         1         1         0   \n3        0        5  ...         0         0         0         0         1   \n4        0        3  ...         0         0         0         0         0   \n\n   icon  animate text  topleft  botright  \n0     1        0    0    black     green  \n1     0        1    0      red       red  \n2     0        0    0    green     white  \n3     1        1    0     blue       red  \n4     0        0    0     blue       red  \n\n[5 rows x 30 columns]",
      "text/html": "<div>\n<style scoped>\n    .dataframe tbody tr th:only-of-type {\n        vertical-align: middle;\n    }\n\n    .dataframe tbody tr th {\n        vertical-align: top;\n    }\n\n    .dataframe thead th {\n        text-align: right;\n    }\n</style>\n<table border=\"1\" class=\"dataframe\">\n  <thead>\n    <tr style=\"text-align: right;\">\n      <th></th>\n      <th>name</th>\n      <th>landmass</th>\n      <th>zone</th>\n      <th>area</th>\n      <th>population</th>\n      <th>language</th>\n      <th>religion</th>\n      <th>bars</th>\n      <th>stripes</th>\n      <th>colours</th>\n      <th>...</th>\n      <th>saltires</th>\n      <th>quarters</th>\n      <th>sunstars</th>\n      <th>crescent</th>\n      <th>triangle</th>\n      <th>icon</th>\n      <th>animate</th>\n      <th>text</th>\n      <th>topleft</th>\n      <th>botright</th>\n    </tr>\n  </thead>\n  <tbody>\n    <tr>\n      <th>0</th>\n      <td>Afghanistan</td>\n      <td>5</td>\n      <td>1</td>\n      <td>648</td>\n      <td>16</td>\n      <td>10</td>\n      <td>2</td>\n      <td>0</td>\n      <td>3</td>\n      <td>5</td>\n      <td>...</td>\n      <td>0</td>\n      <td>0</td>\n      <td>1</td>\n      <td>0</td>\n      <td>0</td>\n      <td>1</td>\n      <td>0</td>\n      <td>0</td>\n      <td>black</td>\n      <td>green</td>\n    </tr>\n    <tr>\n      <th>1</th>\n      <td>Albania</td>\n      <td>3</td>\n      <td>1</td>\n      <td>29</td>\n      <td>3</td>\n      <td>6</td>\n      <td>6</td>\n      <td>0</td>\n      <td>0</td>\n      <td>3</td>\n      <td>...</td>\n      <td>0</td>\n      <td>0</td>\n      <td>1</td>\n      <td>0</td>\n      <td>0</td>\n      <td>0</td>\n      <td>1</td>\n      <td>0</td>\n      <td>red</td>\n      <td>red</td>\n    </tr>\n    <tr>\n      <th>2</th>\n      <td>Algeria</td>\n      <td>4</td>\n      <td>1</td>\n      <td>2388</td>\n      <td>20</td>\n      <td>8</td>\n      <td>2</td>\n      <td>2</td>\n      <td>0</td>\n      <td>3</td>\n      <td>...</td>\n      <td>0</td>\n      <td>0</td>\n      <td>1</td>\n      <td>1</td>\n      <td>0</td>\n      <td>0</td>\n      <td>0</td>\n      <td>0</td>\n      <td>green</td>\n      <td>white</td>\n    </tr>\n    <tr>\n      <th>3</th>\n      <td>American-Samoa</td>\n      <td>6</td>\n      <td>3</td>\n      <td>0</td>\n      <td>0</td>\n      <td>1</td>\n      <td>1</td>\n      <td>0</td>\n      <td>0</td>\n      <td>5</td>\n      <td>...</td>\n      <td>0</td>\n      <td>0</td>\n      <td>0</td>\n      <td>0</td>\n      <td>1</td>\n      <td>1</td>\n      <td>1</td>\n      <td>0</td>\n      <td>blue</td>\n      <td>red</td>\n    </tr>\n    <tr>\n      <th>4</th>\n      <td>Andorra</td>\n      <td>3</td>\n      <td>1</td>\n      <td>0</td>\n      <td>0</td>\n      <td>6</td>\n      <td>0</td>\n      <td>3</td>\n      <td>0</td>\n      <td>3</td>\n      <td>...</td>\n      <td>0</td>\n      <td>0</td>\n      <td>0</td>\n      <td>0</td>\n      <td>0</td>\n      <td>0</td>\n      <td>0</td>\n      <td>0</td>\n      <td>blue</td>\n      <td>red</td>\n    </tr>\n  </tbody>\n</table>\n<p>5 rows × 30 columns</p>\n</div>"
     },
     "execution_count": 4,
     "metadata": {},
     "output_type": "execute_result"
    }
   ],
   "source": [
    "import pandas as pd\n",
    "data = pd.read_csv(r'C:\\Users\\pc\\PycharmProjects\\Netology\\Classwork\\data\\flag.data',header=None,names=cols)\n",
    "data.head()"
   ]
  },
  {
   "cell_type": "markdown",
   "metadata": {},
   "source": [
    "# EDA"
   ]
  },
  {
   "cell_type": "code",
   "execution_count": 5,
   "metadata": {},
   "outputs": [
    {
     "name": "stdout",
     "output_type": "stream",
     "text": [
      "<class 'pandas.core.frame.DataFrame'>\n",
      "RangeIndex: 194 entries, 0 to 193\n",
      "Data columns (total 30 columns):\n",
      " #   Column      Non-Null Count  Dtype \n",
      "---  ------      --------------  ----- \n",
      " 0   name        194 non-null    object\n",
      " 1   landmass    194 non-null    int64 \n",
      " 2   zone        194 non-null    int64 \n",
      " 3   area        194 non-null    int64 \n",
      " 4   population  194 non-null    int64 \n",
      " 5   language    194 non-null    int64 \n",
      " 6   religion    194 non-null    int64 \n",
      " 7   bars        194 non-null    int64 \n",
      " 8   stripes     194 non-null    int64 \n",
      " 9   colours     194 non-null    int64 \n",
      " 10  red         194 non-null    int64 \n",
      " 11  green       194 non-null    int64 \n",
      " 12  blue        194 non-null    int64 \n",
      " 13  gold        194 non-null    int64 \n",
      " 14  white       194 non-null    int64 \n",
      " 15  black       194 non-null    int64 \n",
      " 16  orange      194 non-null    int64 \n",
      " 17  mainhue     194 non-null    object\n",
      " 18  circles     194 non-null    int64 \n",
      " 19  crosses     194 non-null    int64 \n",
      " 20  saltires    194 non-null    int64 \n",
      " 21  quarters    194 non-null    int64 \n",
      " 22  sunstars    194 non-null    int64 \n",
      " 23  crescent    194 non-null    int64 \n",
      " 24  triangle    194 non-null    int64 \n",
      " 25  icon        194 non-null    int64 \n",
      " 26  animate     194 non-null    int64 \n",
      " 27  text        194 non-null    int64 \n",
      " 28  topleft     194 non-null    object\n",
      " 29  botright    194 non-null    object\n",
      "dtypes: int64(26), object(4)\n",
      "memory usage: 42.5+ KB\n"
     ]
    }
   ],
   "source": [
    "data.info()"
   ]
  },
  {
   "cell_type": "code",
   "execution_count": 6,
   "metadata": {},
   "outputs": [],
   "source": [
    "black_list = ['name'] #we balck list country name as with it we need just wiki to predicit religion\n",
    "categoricals = ['landmass','zone','language','mainhue','topleft','botright']\n",
    "dummies = ['red','green','blue','gold','white','black','orange','crescent','triangle','icon','animate','text']\n",
    "continious = ['area', 'population', 'bars', 'stripes', 'colours','circles', 'crosses', 'saltires', 'quarters', 'sunstars']\n",
    "target = 'religion'"
   ]
  },
  {
   "cell_type": "code",
   "execution_count": 7,
   "metadata": {},
   "outputs": [
    {
     "data": {
      "text/plain": "               area   population        bars     stripes     colours  \\\ncount    194.000000   194.000000  194.000000  194.000000  194.000000   \nmean     700.046392    23.268041    0.453608    1.551546    3.463918   \nstd     2170.927932    91.934085    1.038339    2.328005    1.300154   \nmin        0.000000     0.000000    0.000000    0.000000    1.000000   \n25%        9.000000     0.000000    0.000000    0.000000    3.000000   \n50%      111.000000     4.000000    0.000000    0.000000    3.000000   \n75%      471.250000    14.000000    0.000000    3.000000    4.000000   \nmax    22402.000000  1008.000000    5.000000   14.000000    8.000000   \n\n          circles     crosses    saltires    quarters    sunstars  \ncount  194.000000  194.000000  194.000000  194.000000  194.000000  \nmean     0.170103    0.149485    0.092784    0.149485    1.386598  \nstd      0.463075    0.385387    0.290879    0.435860    4.396186  \nmin      0.000000    0.000000    0.000000    0.000000    0.000000  \n25%      0.000000    0.000000    0.000000    0.000000    0.000000  \n50%      0.000000    0.000000    0.000000    0.000000    0.000000  \n75%      0.000000    0.000000    0.000000    0.000000    1.000000  \nmax      4.000000    2.000000    1.000000    4.000000   50.000000  ",
      "text/html": "<div>\n<style scoped>\n    .dataframe tbody tr th:only-of-type {\n        vertical-align: middle;\n    }\n\n    .dataframe tbody tr th {\n        vertical-align: top;\n    }\n\n    .dataframe thead th {\n        text-align: right;\n    }\n</style>\n<table border=\"1\" class=\"dataframe\">\n  <thead>\n    <tr style=\"text-align: right;\">\n      <th></th>\n      <th>area</th>\n      <th>population</th>\n      <th>bars</th>\n      <th>stripes</th>\n      <th>colours</th>\n      <th>circles</th>\n      <th>crosses</th>\n      <th>saltires</th>\n      <th>quarters</th>\n      <th>sunstars</th>\n    </tr>\n  </thead>\n  <tbody>\n    <tr>\n      <th>count</th>\n      <td>194.000000</td>\n      <td>194.000000</td>\n      <td>194.000000</td>\n      <td>194.000000</td>\n      <td>194.000000</td>\n      <td>194.000000</td>\n      <td>194.000000</td>\n      <td>194.000000</td>\n      <td>194.000000</td>\n      <td>194.000000</td>\n    </tr>\n    <tr>\n      <th>mean</th>\n      <td>700.046392</td>\n      <td>23.268041</td>\n      <td>0.453608</td>\n      <td>1.551546</td>\n      <td>3.463918</td>\n      <td>0.170103</td>\n      <td>0.149485</td>\n      <td>0.092784</td>\n      <td>0.149485</td>\n      <td>1.386598</td>\n    </tr>\n    <tr>\n      <th>std</th>\n      <td>2170.927932</td>\n      <td>91.934085</td>\n      <td>1.038339</td>\n      <td>2.328005</td>\n      <td>1.300154</td>\n      <td>0.463075</td>\n      <td>0.385387</td>\n      <td>0.290879</td>\n      <td>0.435860</td>\n      <td>4.396186</td>\n    </tr>\n    <tr>\n      <th>min</th>\n      <td>0.000000</td>\n      <td>0.000000</td>\n      <td>0.000000</td>\n      <td>0.000000</td>\n      <td>1.000000</td>\n      <td>0.000000</td>\n      <td>0.000000</td>\n      <td>0.000000</td>\n      <td>0.000000</td>\n      <td>0.000000</td>\n    </tr>\n    <tr>\n      <th>25%</th>\n      <td>9.000000</td>\n      <td>0.000000</td>\n      <td>0.000000</td>\n      <td>0.000000</td>\n      <td>3.000000</td>\n      <td>0.000000</td>\n      <td>0.000000</td>\n      <td>0.000000</td>\n      <td>0.000000</td>\n      <td>0.000000</td>\n    </tr>\n    <tr>\n      <th>50%</th>\n      <td>111.000000</td>\n      <td>4.000000</td>\n      <td>0.000000</td>\n      <td>0.000000</td>\n      <td>3.000000</td>\n      <td>0.000000</td>\n      <td>0.000000</td>\n      <td>0.000000</td>\n      <td>0.000000</td>\n      <td>0.000000</td>\n    </tr>\n    <tr>\n      <th>75%</th>\n      <td>471.250000</td>\n      <td>14.000000</td>\n      <td>0.000000</td>\n      <td>3.000000</td>\n      <td>4.000000</td>\n      <td>0.000000</td>\n      <td>0.000000</td>\n      <td>0.000000</td>\n      <td>0.000000</td>\n      <td>1.000000</td>\n    </tr>\n    <tr>\n      <th>max</th>\n      <td>22402.000000</td>\n      <td>1008.000000</td>\n      <td>5.000000</td>\n      <td>14.000000</td>\n      <td>8.000000</td>\n      <td>4.000000</td>\n      <td>2.000000</td>\n      <td>1.000000</td>\n      <td>4.000000</td>\n      <td>50.000000</td>\n    </tr>\n  </tbody>\n</table>\n</div>"
     },
     "execution_count": 7,
     "metadata": {},
     "output_type": "execute_result"
    }
   ],
   "source": [
    "data[continious].describe()\n",
    "#strange that area and population can be 0"
   ]
  },
  {
   "cell_type": "code",
   "execution_count": 8,
   "metadata": {},
   "outputs": [
    {
     "data": {
      "text/plain": "                     name  landmass  zone  area  population  language  \\\n3          American-Samoa         6     3     0           0         1   \n4                 Andorra         3     1     0           0         6   \n6                Anguilla         1     4     0           0         1   \n7         Antigua-Barbuda         1     4     0           0         1   \n15               Barbados         1     4     0           0         1   \n19                Bermuda         1     4     0           0         1   \n24   British-Virgin-Isles         1     4     0           0         1   \n33         Cayman-Islands         1     4     0           0         1   \n41           Cook-Islands         6     3     0           0         1   \n48               Dominica         1     4     0           0         1   \n67              Gibraltar         3     4     0           0         1   \n70                Grenada         1     4     0           0         1   \n71                   Guam         6     1     0           0         1   \n94               Kiribati         6     1     0           0         1   \n101         Liechtenstein         3     1     0           0         4   \n106       Maldive-Islands         5     1     0           0        10   \n108                 Malta         3     1     0           0        10   \n109              Marianas         6     1     0           0        10   \n114                Monaco         3     1     0           0         3   \n116            Montserrat         1     4     0           0         1   \n119                 Nauru         6     2     0           0        10   \n122  Netherlands-Antilles         1     4     0           0         6   \n127                  Niue         6     3     0           0         1   \n144            San-Marino         3     1     0           0         6   \n145              Sao-Tome         4     1     0           0         6   \n148            Seychelles         4     2     0           0         1   \n158             St-Helena         4     3     0           0         1   \n159        St-Kitts-Nevis         1     4     0           0         1   \n160              St-Lucia         1     4     0           0         1   \n161            St-Vincent         1     4     0           0         1   \n176   Turks-Cocos-Islands         1     4     0           0         1   \n177                Tuvalu         6     2     0           0         1   \n182       US-Virgin-Isles         1     4     0           0         1   \n186          Vatican-City         3     1     0           0         6   \n\n     religion  bars  stripes  colours  ...  saltires  quarters  sunstars  \\\n3           1     0        0        5  ...         0         0         0   \n4           0     3        0        3  ...         0         0         0   \n6           1     0        1        3  ...         0         0         0   \n7           1     0        1        5  ...         0         0         1   \n15          1     3        0        3  ...         0         0         0   \n19          1     0        0        6  ...         1         1         0   \n24          1     0        0        6  ...         1         1         0   \n33          1     0        0        6  ...         1         1         4   \n41          1     0        0        4  ...         1         1        15   \n48          1     0        0        6  ...         0         0        10   \n67          1     0        1        3  ...         0         0         0   \n70          1     0        0        3  ...         0         0         7   \n71          1     0        0        7  ...         0         0         0   \n94          1     0        0        4  ...         0         0         1   \n101         0     0        2        3  ...         0         0         0   \n106         2     0        0        3  ...         0         0         0   \n108         0     2        0        3  ...         0         0         0   \n109         1     0        0        3  ...         0         0         1   \n114         0     0        2        2  ...         0         0         0   \n116         1     0        0        7  ...         1         1         0   \n119         1     0        3        3  ...         0         0         1   \n122         1     0        1        3  ...         0         0         6   \n127         1     0        0        4  ...         1         1         5   \n144         0     0        2        2  ...         0         0         0   \n145         0     0        3        4  ...         0         0         2   \n148         1     0        0        3  ...         0         0         0   \n158         1     0        0        7  ...         1         1         0   \n159         1     0        0        5  ...         0         0         2   \n160         1     0        0        4  ...         0         0         0   \n161         1     5        0        4  ...         0         0         0   \n176         1     0        0        6  ...         1         1         0   \n177         1     0        0        5  ...         1         1         9   \n182         1     0        0        6  ...         0         0         0   \n186         0     2        0        4  ...         0         0         0   \n\n     crescent  triangle  icon  animate text  topleft  botright  \n3           0         1     1        1    0     blue       red  \n4           0         0     0        0    0     blue       red  \n6           0         0     0        1    0    white      blue  \n7           0         1     0        0    0    black       red  \n15          0         0     1        0    0     blue      blue  \n19          0         0     1        1    0    white       red  \n24          0         0     1        1    1    white      blue  \n33          0         0     1        1    1    white      blue  \n41          0         0     0        0    0    white      blue  \n48          0         0     0        1    0    green     green  \n67          0         0     1        0    0    white       red  \n70          0         1     0        1    0      red       red  \n71          0         0     1        1    1      red       red  \n94          0         0     1        1    0      red      blue  \n101         0         0     1        0    0     blue       red  \n106         1         0     0        0    0      red       red  \n108         0         0     1        0    0    white       red  \n109         0         0     1        0    0     blue      blue  \n114         0         0     0        0    0      red     white  \n116         0         0     1        1    0    white      blue  \n119         0         0     0        0    0     blue      blue  \n122         0         0     0        0    0    white     white  \n127         0         0     0        0    0    white      gold  \n144         0         0     0        0    0    white      blue  \n145         0         1     0        0    0    green     green  \n148         0         0     0        0    0      red     green  \n158         0         0     1        0    0    white      blue  \n159         0         1     0        0    0    green       red  \n160         0         1     0        0    0     blue      blue  \n161         0         0     1        1    1     blue     green  \n176         0         0     1        1    0    white      blue  \n177         0         0     0        0    0    white      blue  \n182         0         0     1        1    1    white     white  \n186         0         0     1        0    0     gold     white  \n\n[34 rows x 30 columns]",
      "text/html": "<div>\n<style scoped>\n    .dataframe tbody tr th:only-of-type {\n        vertical-align: middle;\n    }\n\n    .dataframe tbody tr th {\n        vertical-align: top;\n    }\n\n    .dataframe thead th {\n        text-align: right;\n    }\n</style>\n<table border=\"1\" class=\"dataframe\">\n  <thead>\n    <tr style=\"text-align: right;\">\n      <th></th>\n      <th>name</th>\n      <th>landmass</th>\n      <th>zone</th>\n      <th>area</th>\n      <th>population</th>\n      <th>language</th>\n      <th>religion</th>\n      <th>bars</th>\n      <th>stripes</th>\n      <th>colours</th>\n      <th>...</th>\n      <th>saltires</th>\n      <th>quarters</th>\n      <th>sunstars</th>\n      <th>crescent</th>\n      <th>triangle</th>\n      <th>icon</th>\n      <th>animate</th>\n      <th>text</th>\n      <th>topleft</th>\n      <th>botright</th>\n    </tr>\n  </thead>\n  <tbody>\n    <tr>\n      <th>3</th>\n      <td>American-Samoa</td>\n      <td>6</td>\n      <td>3</td>\n      <td>0</td>\n      <td>0</td>\n      <td>1</td>\n      <td>1</td>\n      <td>0</td>\n      <td>0</td>\n      <td>5</td>\n      <td>...</td>\n      <td>0</td>\n      <td>0</td>\n      <td>0</td>\n      <td>0</td>\n      <td>1</td>\n      <td>1</td>\n      <td>1</td>\n      <td>0</td>\n      <td>blue</td>\n      <td>red</td>\n    </tr>\n    <tr>\n      <th>4</th>\n      <td>Andorra</td>\n      <td>3</td>\n      <td>1</td>\n      <td>0</td>\n      <td>0</td>\n      <td>6</td>\n      <td>0</td>\n      <td>3</td>\n      <td>0</td>\n      <td>3</td>\n      <td>...</td>\n      <td>0</td>\n      <td>0</td>\n      <td>0</td>\n      <td>0</td>\n      <td>0</td>\n      <td>0</td>\n      <td>0</td>\n      <td>0</td>\n      <td>blue</td>\n      <td>red</td>\n    </tr>\n    <tr>\n      <th>6</th>\n      <td>Anguilla</td>\n      <td>1</td>\n      <td>4</td>\n      <td>0</td>\n      <td>0</td>\n      <td>1</td>\n      <td>1</td>\n      <td>0</td>\n      <td>1</td>\n      <td>3</td>\n      <td>...</td>\n      <td>0</td>\n      <td>0</td>\n      <td>0</td>\n      <td>0</td>\n      <td>0</td>\n      <td>0</td>\n      <td>1</td>\n      <td>0</td>\n      <td>white</td>\n      <td>blue</td>\n    </tr>\n    <tr>\n      <th>7</th>\n      <td>Antigua-Barbuda</td>\n      <td>1</td>\n      <td>4</td>\n      <td>0</td>\n      <td>0</td>\n      <td>1</td>\n      <td>1</td>\n      <td>0</td>\n      <td>1</td>\n      <td>5</td>\n      <td>...</td>\n      <td>0</td>\n      <td>0</td>\n      <td>1</td>\n      <td>0</td>\n      <td>1</td>\n      <td>0</td>\n      <td>0</td>\n      <td>0</td>\n      <td>black</td>\n      <td>red</td>\n    </tr>\n    <tr>\n      <th>15</th>\n      <td>Barbados</td>\n      <td>1</td>\n      <td>4</td>\n      <td>0</td>\n      <td>0</td>\n      <td>1</td>\n      <td>1</td>\n      <td>3</td>\n      <td>0</td>\n      <td>3</td>\n      <td>...</td>\n      <td>0</td>\n      <td>0</td>\n      <td>0</td>\n      <td>0</td>\n      <td>0</td>\n      <td>1</td>\n      <td>0</td>\n      <td>0</td>\n      <td>blue</td>\n      <td>blue</td>\n    </tr>\n    <tr>\n      <th>19</th>\n      <td>Bermuda</td>\n      <td>1</td>\n      <td>4</td>\n      <td>0</td>\n      <td>0</td>\n      <td>1</td>\n      <td>1</td>\n      <td>0</td>\n      <td>0</td>\n      <td>6</td>\n      <td>...</td>\n      <td>1</td>\n      <td>1</td>\n      <td>0</td>\n      <td>0</td>\n      <td>0</td>\n      <td>1</td>\n      <td>1</td>\n      <td>0</td>\n      <td>white</td>\n      <td>red</td>\n    </tr>\n    <tr>\n      <th>24</th>\n      <td>British-Virgin-Isles</td>\n      <td>1</td>\n      <td>4</td>\n      <td>0</td>\n      <td>0</td>\n      <td>1</td>\n      <td>1</td>\n      <td>0</td>\n      <td>0</td>\n      <td>6</td>\n      <td>...</td>\n      <td>1</td>\n      <td>1</td>\n      <td>0</td>\n      <td>0</td>\n      <td>0</td>\n      <td>1</td>\n      <td>1</td>\n      <td>1</td>\n      <td>white</td>\n      <td>blue</td>\n    </tr>\n    <tr>\n      <th>33</th>\n      <td>Cayman-Islands</td>\n      <td>1</td>\n      <td>4</td>\n      <td>0</td>\n      <td>0</td>\n      <td>1</td>\n      <td>1</td>\n      <td>0</td>\n      <td>0</td>\n      <td>6</td>\n      <td>...</td>\n      <td>1</td>\n      <td>1</td>\n      <td>4</td>\n      <td>0</td>\n      <td>0</td>\n      <td>1</td>\n      <td>1</td>\n      <td>1</td>\n      <td>white</td>\n      <td>blue</td>\n    </tr>\n    <tr>\n      <th>41</th>\n      <td>Cook-Islands</td>\n      <td>6</td>\n      <td>3</td>\n      <td>0</td>\n      <td>0</td>\n      <td>1</td>\n      <td>1</td>\n      <td>0</td>\n      <td>0</td>\n      <td>4</td>\n      <td>...</td>\n      <td>1</td>\n      <td>1</td>\n      <td>15</td>\n      <td>0</td>\n      <td>0</td>\n      <td>0</td>\n      <td>0</td>\n      <td>0</td>\n      <td>white</td>\n      <td>blue</td>\n    </tr>\n    <tr>\n      <th>48</th>\n      <td>Dominica</td>\n      <td>1</td>\n      <td>4</td>\n      <td>0</td>\n      <td>0</td>\n      <td>1</td>\n      <td>1</td>\n      <td>0</td>\n      <td>0</td>\n      <td>6</td>\n      <td>...</td>\n      <td>0</td>\n      <td>0</td>\n      <td>10</td>\n      <td>0</td>\n      <td>0</td>\n      <td>0</td>\n      <td>1</td>\n      <td>0</td>\n      <td>green</td>\n      <td>green</td>\n    </tr>\n    <tr>\n      <th>67</th>\n      <td>Gibraltar</td>\n      <td>3</td>\n      <td>4</td>\n      <td>0</td>\n      <td>0</td>\n      <td>1</td>\n      <td>1</td>\n      <td>0</td>\n      <td>1</td>\n      <td>3</td>\n      <td>...</td>\n      <td>0</td>\n      <td>0</td>\n      <td>0</td>\n      <td>0</td>\n      <td>0</td>\n      <td>1</td>\n      <td>0</td>\n      <td>0</td>\n      <td>white</td>\n      <td>red</td>\n    </tr>\n    <tr>\n      <th>70</th>\n      <td>Grenada</td>\n      <td>1</td>\n      <td>4</td>\n      <td>0</td>\n      <td>0</td>\n      <td>1</td>\n      <td>1</td>\n      <td>0</td>\n      <td>0</td>\n      <td>3</td>\n      <td>...</td>\n      <td>0</td>\n      <td>0</td>\n      <td>7</td>\n      <td>0</td>\n      <td>1</td>\n      <td>0</td>\n      <td>1</td>\n      <td>0</td>\n      <td>red</td>\n      <td>red</td>\n    </tr>\n    <tr>\n      <th>71</th>\n      <td>Guam</td>\n      <td>6</td>\n      <td>1</td>\n      <td>0</td>\n      <td>0</td>\n      <td>1</td>\n      <td>1</td>\n      <td>0</td>\n      <td>0</td>\n      <td>7</td>\n      <td>...</td>\n      <td>0</td>\n      <td>0</td>\n      <td>0</td>\n      <td>0</td>\n      <td>0</td>\n      <td>1</td>\n      <td>1</td>\n      <td>1</td>\n      <td>red</td>\n      <td>red</td>\n    </tr>\n    <tr>\n      <th>94</th>\n      <td>Kiribati</td>\n      <td>6</td>\n      <td>1</td>\n      <td>0</td>\n      <td>0</td>\n      <td>1</td>\n      <td>1</td>\n      <td>0</td>\n      <td>0</td>\n      <td>4</td>\n      <td>...</td>\n      <td>0</td>\n      <td>0</td>\n      <td>1</td>\n      <td>0</td>\n      <td>0</td>\n      <td>1</td>\n      <td>1</td>\n      <td>0</td>\n      <td>red</td>\n      <td>blue</td>\n    </tr>\n    <tr>\n      <th>101</th>\n      <td>Liechtenstein</td>\n      <td>3</td>\n      <td>1</td>\n      <td>0</td>\n      <td>0</td>\n      <td>4</td>\n      <td>0</td>\n      <td>0</td>\n      <td>2</td>\n      <td>3</td>\n      <td>...</td>\n      <td>0</td>\n      <td>0</td>\n      <td>0</td>\n      <td>0</td>\n      <td>0</td>\n      <td>1</td>\n      <td>0</td>\n      <td>0</td>\n      <td>blue</td>\n      <td>red</td>\n    </tr>\n    <tr>\n      <th>106</th>\n      <td>Maldive-Islands</td>\n      <td>5</td>\n      <td>1</td>\n      <td>0</td>\n      <td>0</td>\n      <td>10</td>\n      <td>2</td>\n      <td>0</td>\n      <td>0</td>\n      <td>3</td>\n      <td>...</td>\n      <td>0</td>\n      <td>0</td>\n      <td>0</td>\n      <td>1</td>\n      <td>0</td>\n      <td>0</td>\n      <td>0</td>\n      <td>0</td>\n      <td>red</td>\n      <td>red</td>\n    </tr>\n    <tr>\n      <th>108</th>\n      <td>Malta</td>\n      <td>3</td>\n      <td>1</td>\n      <td>0</td>\n      <td>0</td>\n      <td>10</td>\n      <td>0</td>\n      <td>2</td>\n      <td>0</td>\n      <td>3</td>\n      <td>...</td>\n      <td>0</td>\n      <td>0</td>\n      <td>0</td>\n      <td>0</td>\n      <td>0</td>\n      <td>1</td>\n      <td>0</td>\n      <td>0</td>\n      <td>white</td>\n      <td>red</td>\n    </tr>\n    <tr>\n      <th>109</th>\n      <td>Marianas</td>\n      <td>6</td>\n      <td>1</td>\n      <td>0</td>\n      <td>0</td>\n      <td>10</td>\n      <td>1</td>\n      <td>0</td>\n      <td>0</td>\n      <td>3</td>\n      <td>...</td>\n      <td>0</td>\n      <td>0</td>\n      <td>1</td>\n      <td>0</td>\n      <td>0</td>\n      <td>1</td>\n      <td>0</td>\n      <td>0</td>\n      <td>blue</td>\n      <td>blue</td>\n    </tr>\n    <tr>\n      <th>114</th>\n      <td>Monaco</td>\n      <td>3</td>\n      <td>1</td>\n      <td>0</td>\n      <td>0</td>\n      <td>3</td>\n      <td>0</td>\n      <td>0</td>\n      <td>2</td>\n      <td>2</td>\n      <td>...</td>\n      <td>0</td>\n      <td>0</td>\n      <td>0</td>\n      <td>0</td>\n      <td>0</td>\n      <td>0</td>\n      <td>0</td>\n      <td>0</td>\n      <td>red</td>\n      <td>white</td>\n    </tr>\n    <tr>\n      <th>116</th>\n      <td>Montserrat</td>\n      <td>1</td>\n      <td>4</td>\n      <td>0</td>\n      <td>0</td>\n      <td>1</td>\n      <td>1</td>\n      <td>0</td>\n      <td>0</td>\n      <td>7</td>\n      <td>...</td>\n      <td>1</td>\n      <td>1</td>\n      <td>0</td>\n      <td>0</td>\n      <td>0</td>\n      <td>1</td>\n      <td>1</td>\n      <td>0</td>\n      <td>white</td>\n      <td>blue</td>\n    </tr>\n    <tr>\n      <th>119</th>\n      <td>Nauru</td>\n      <td>6</td>\n      <td>2</td>\n      <td>0</td>\n      <td>0</td>\n      <td>10</td>\n      <td>1</td>\n      <td>0</td>\n      <td>3</td>\n      <td>3</td>\n      <td>...</td>\n      <td>0</td>\n      <td>0</td>\n      <td>1</td>\n      <td>0</td>\n      <td>0</td>\n      <td>0</td>\n      <td>0</td>\n      <td>0</td>\n      <td>blue</td>\n      <td>blue</td>\n    </tr>\n    <tr>\n      <th>122</th>\n      <td>Netherlands-Antilles</td>\n      <td>1</td>\n      <td>4</td>\n      <td>0</td>\n      <td>0</td>\n      <td>6</td>\n      <td>1</td>\n      <td>0</td>\n      <td>1</td>\n      <td>3</td>\n      <td>...</td>\n      <td>0</td>\n      <td>0</td>\n      <td>6</td>\n      <td>0</td>\n      <td>0</td>\n      <td>0</td>\n      <td>0</td>\n      <td>0</td>\n      <td>white</td>\n      <td>white</td>\n    </tr>\n    <tr>\n      <th>127</th>\n      <td>Niue</td>\n      <td>6</td>\n      <td>3</td>\n      <td>0</td>\n      <td>0</td>\n      <td>1</td>\n      <td>1</td>\n      <td>0</td>\n      <td>0</td>\n      <td>4</td>\n      <td>...</td>\n      <td>1</td>\n      <td>1</td>\n      <td>5</td>\n      <td>0</td>\n      <td>0</td>\n      <td>0</td>\n      <td>0</td>\n      <td>0</td>\n      <td>white</td>\n      <td>gold</td>\n    </tr>\n    <tr>\n      <th>144</th>\n      <td>San-Marino</td>\n      <td>3</td>\n      <td>1</td>\n      <td>0</td>\n      <td>0</td>\n      <td>6</td>\n      <td>0</td>\n      <td>0</td>\n      <td>2</td>\n      <td>2</td>\n      <td>...</td>\n      <td>0</td>\n      <td>0</td>\n      <td>0</td>\n      <td>0</td>\n      <td>0</td>\n      <td>0</td>\n      <td>0</td>\n      <td>0</td>\n      <td>white</td>\n      <td>blue</td>\n    </tr>\n    <tr>\n      <th>145</th>\n      <td>Sao-Tome</td>\n      <td>4</td>\n      <td>1</td>\n      <td>0</td>\n      <td>0</td>\n      <td>6</td>\n      <td>0</td>\n      <td>0</td>\n      <td>3</td>\n      <td>4</td>\n      <td>...</td>\n      <td>0</td>\n      <td>0</td>\n      <td>2</td>\n      <td>0</td>\n      <td>1</td>\n      <td>0</td>\n      <td>0</td>\n      <td>0</td>\n      <td>green</td>\n      <td>green</td>\n    </tr>\n    <tr>\n      <th>148</th>\n      <td>Seychelles</td>\n      <td>4</td>\n      <td>2</td>\n      <td>0</td>\n      <td>0</td>\n      <td>1</td>\n      <td>1</td>\n      <td>0</td>\n      <td>0</td>\n      <td>3</td>\n      <td>...</td>\n      <td>0</td>\n      <td>0</td>\n      <td>0</td>\n      <td>0</td>\n      <td>0</td>\n      <td>0</td>\n      <td>0</td>\n      <td>0</td>\n      <td>red</td>\n      <td>green</td>\n    </tr>\n    <tr>\n      <th>158</th>\n      <td>St-Helena</td>\n      <td>4</td>\n      <td>3</td>\n      <td>0</td>\n      <td>0</td>\n      <td>1</td>\n      <td>1</td>\n      <td>0</td>\n      <td>0</td>\n      <td>7</td>\n      <td>...</td>\n      <td>1</td>\n      <td>1</td>\n      <td>0</td>\n      <td>0</td>\n      <td>0</td>\n      <td>1</td>\n      <td>0</td>\n      <td>0</td>\n      <td>white</td>\n      <td>blue</td>\n    </tr>\n    <tr>\n      <th>159</th>\n      <td>St-Kitts-Nevis</td>\n      <td>1</td>\n      <td>4</td>\n      <td>0</td>\n      <td>0</td>\n      <td>1</td>\n      <td>1</td>\n      <td>0</td>\n      <td>0</td>\n      <td>5</td>\n      <td>...</td>\n      <td>0</td>\n      <td>0</td>\n      <td>2</td>\n      <td>0</td>\n      <td>1</td>\n      <td>0</td>\n      <td>0</td>\n      <td>0</td>\n      <td>green</td>\n      <td>red</td>\n    </tr>\n    <tr>\n      <th>160</th>\n      <td>St-Lucia</td>\n      <td>1</td>\n      <td>4</td>\n      <td>0</td>\n      <td>0</td>\n      <td>1</td>\n      <td>1</td>\n      <td>0</td>\n      <td>0</td>\n      <td>4</td>\n      <td>...</td>\n      <td>0</td>\n      <td>0</td>\n      <td>0</td>\n      <td>0</td>\n      <td>1</td>\n      <td>0</td>\n      <td>0</td>\n      <td>0</td>\n      <td>blue</td>\n      <td>blue</td>\n    </tr>\n    <tr>\n      <th>161</th>\n      <td>St-Vincent</td>\n      <td>1</td>\n      <td>4</td>\n      <td>0</td>\n      <td>0</td>\n      <td>1</td>\n      <td>1</td>\n      <td>5</td>\n      <td>0</td>\n      <td>4</td>\n      <td>...</td>\n      <td>0</td>\n      <td>0</td>\n      <td>0</td>\n      <td>0</td>\n      <td>0</td>\n      <td>1</td>\n      <td>1</td>\n      <td>1</td>\n      <td>blue</td>\n      <td>green</td>\n    </tr>\n    <tr>\n      <th>176</th>\n      <td>Turks-Cocos-Islands</td>\n      <td>1</td>\n      <td>4</td>\n      <td>0</td>\n      <td>0</td>\n      <td>1</td>\n      <td>1</td>\n      <td>0</td>\n      <td>0</td>\n      <td>6</td>\n      <td>...</td>\n      <td>1</td>\n      <td>1</td>\n      <td>0</td>\n      <td>0</td>\n      <td>0</td>\n      <td>1</td>\n      <td>1</td>\n      <td>0</td>\n      <td>white</td>\n      <td>blue</td>\n    </tr>\n    <tr>\n      <th>177</th>\n      <td>Tuvalu</td>\n      <td>6</td>\n      <td>2</td>\n      <td>0</td>\n      <td>0</td>\n      <td>1</td>\n      <td>1</td>\n      <td>0</td>\n      <td>0</td>\n      <td>5</td>\n      <td>...</td>\n      <td>1</td>\n      <td>1</td>\n      <td>9</td>\n      <td>0</td>\n      <td>0</td>\n      <td>0</td>\n      <td>0</td>\n      <td>0</td>\n      <td>white</td>\n      <td>blue</td>\n    </tr>\n    <tr>\n      <th>182</th>\n      <td>US-Virgin-Isles</td>\n      <td>1</td>\n      <td>4</td>\n      <td>0</td>\n      <td>0</td>\n      <td>1</td>\n      <td>1</td>\n      <td>0</td>\n      <td>0</td>\n      <td>6</td>\n      <td>...</td>\n      <td>0</td>\n      <td>0</td>\n      <td>0</td>\n      <td>0</td>\n      <td>0</td>\n      <td>1</td>\n      <td>1</td>\n      <td>1</td>\n      <td>white</td>\n      <td>white</td>\n    </tr>\n    <tr>\n      <th>186</th>\n      <td>Vatican-City</td>\n      <td>3</td>\n      <td>1</td>\n      <td>0</td>\n      <td>0</td>\n      <td>6</td>\n      <td>0</td>\n      <td>2</td>\n      <td>0</td>\n      <td>4</td>\n      <td>...</td>\n      <td>0</td>\n      <td>0</td>\n      <td>0</td>\n      <td>0</td>\n      <td>0</td>\n      <td>1</td>\n      <td>0</td>\n      <td>0</td>\n      <td>gold</td>\n      <td>white</td>\n    </tr>\n  </tbody>\n</table>\n<p>34 rows × 30 columns</p>\n</div>"
     },
     "execution_count": 8,
     "metadata": {},
     "output_type": "execute_result"
    }
   ],
   "source": [
    "data[data.area == 0]"
   ]
  },
  {
   "cell_type": "code",
   "execution_count": 9,
   "metadata": {},
   "outputs": [
    {
     "data": {
      "text/plain": "                     name  landmass  zone  area  population  language  \\\n3          American-Samoa         6     3     0           0         1   \n4                 Andorra         3     1     0           0         6   \n6                Anguilla         1     4     0           0         1   \n7         Antigua-Barbuda         1     4     0           0         1   \n12                Bahamas         1     4    19           0         1   \n13                Bahrain         5     1     1           0         8   \n15               Barbados         1     4     0           0         1   \n17                 Belize         1     4    23           0         1   \n19                Bermuda         1     4     0           0         1   \n24   British-Virgin-Isles         1     4     0           0         1   \n25                 Brunei         5     1     6           0        10   \n32     Cape-Verde-Islands         4     4     4           0         6   \n33         Cayman-Islands         1     4     0           0         1   \n39        Comorro-Islands         4     2     2           0         3   \n41           Cook-Islands         6     3     0           0         1   \n47               Djibouti         4     1    22           0         3   \n48               Dominica         1     4     0           0         1   \n53      Equatorial-Guinea         4     1    28           0        10   \n55                Faeroes         3     4     1           0         6   \n56     Falklands-Malvinas         2     3    12           0         1   \n60          French-Guiana         2     4    91           0         3   \n61       French-Polynesia         6     3     4           0         3   \n67              Gibraltar         3     4     0           0         1   \n69              Greenland         1     4  2176           0         6   \n70                Grenada         1     4     0           0         1   \n71                   Guam         6     1     0           0         1   \n80                Iceland         3     4   103           0         6   \n94               Kiribati         6     1     0           0         1   \n101         Liechtenstein         3     1     0           0         4   \n102            Luxembourg         3     1     3           0         4   \n106       Maldive-Islands         5     1     0           0        10   \n108                 Malta         3     1     0           0        10   \n109              Marianas         6     1     0           0        10   \n113            Micronesia         6     1     1           0        10   \n114                Monaco         3     1     0           0         3   \n116            Montserrat         1     4     0           0         1   \n119                 Nauru         6     2     0           0        10   \n122  Netherlands-Antilles         1     4     0           0         6   \n127                  Niue         6     3     0           0         1   \n141                 Qatar         5     1    11           0         8   \n144            San-Marino         3     1     0           0         6   \n145              Sao-Tome         4     1     0           0         6   \n148            Seychelles         4     2     0           0         1   \n151       Soloman-Islands         6     2    30           0         1   \n158             St-Helena         4     3     0           0         1   \n159        St-Kitts-Nevis         1     4     0           0         1   \n160              St-Lucia         1     4     0           0         1   \n161            St-Vincent         1     4     0           0         1   \n163               Surinam         2     4    63           0         6   \n172                 Tonga         6     2     1           0        10   \n176   Turks-Cocos-Islands         1     4     0           0         1   \n177                Tuvalu         6     2     0           0         1   \n182       US-Virgin-Isles         1     4     0           0         1   \n185               Vanuatu         6     2    15           0         6   \n186          Vatican-City         3     1     0           0         6   \n189         Western-Samoa         6     3     3           0         1   \n\n     religion  bars  stripes  colours  ...  saltires  quarters  sunstars  \\\n3           1     0        0        5  ...         0         0         0   \n4           0     3        0        3  ...         0         0         0   \n6           1     0        1        3  ...         0         0         0   \n7           1     0        1        5  ...         0         0         1   \n12          1     0        3        3  ...         0         0         0   \n13          2     0        0        2  ...         0         0         0   \n15          1     3        0        3  ...         0         0         0   \n17          1     0        2        8  ...         0         0         0   \n19          1     0        0        6  ...         1         1         0   \n24          1     0        0        6  ...         1         1         0   \n25          2     0        0        4  ...         0         0         0   \n32          0     1        2        5  ...         0         0         1   \n33          1     0        0        6  ...         1         1         4   \n39          2     0        0        2  ...         0         0         4   \n41          1     0        0        4  ...         1         1        15   \n47          2     0        0        4  ...         0         0         1   \n48          1     0        0        6  ...         0         0        10   \n53          5     0        3        4  ...         0         0         0   \n55          1     0        0        3  ...         0         0         0   \n56          1     0        0        6  ...         1         1         0   \n60          0     3        0        3  ...         0         0         0   \n61          0     0        3        5  ...         0         0         1   \n67          1     0        1        3  ...         0         0         0   \n69          1     0        0        2  ...         0         0         0   \n70          1     0        0        3  ...         0         0         7   \n71          1     0        0        7  ...         0         0         0   \n80          1     0        0        3  ...         0         0         0   \n94          1     0        0        4  ...         0         0         1   \n101         0     0        2        3  ...         0         0         0   \n102         0     0        3        3  ...         0         0         0   \n106         2     0        0        3  ...         0         0         0   \n108         0     2        0        3  ...         0         0         0   \n109         1     0        0        3  ...         0         0         1   \n113         1     0        0        2  ...         0         0         4   \n114         0     0        2        2  ...         0         0         0   \n116         1     0        0        7  ...         1         1         0   \n119         1     0        3        3  ...         0         0         1   \n122         1     0        1        3  ...         0         0         6   \n127         1     0        0        4  ...         1         1         5   \n141         2     0        0        2  ...         0         0         0   \n144         0     0        2        2  ...         0         0         0   \n145         0     0        3        4  ...         0         0         2   \n148         1     0        0        3  ...         0         0         0   \n151         1     0        0        4  ...         0         0         5   \n158         1     0        0        7  ...         1         1         0   \n159         1     0        0        5  ...         0         0         2   \n160         1     0        0        4  ...         0         0         0   \n161         1     5        0        4  ...         0         0         0   \n163         1     0        5        4  ...         0         0         1   \n172         1     0        0        2  ...         0         1         0   \n176         1     0        0        6  ...         1         1         0   \n177         1     0        0        5  ...         1         1         9   \n182         1     0        0        6  ...         0         0         0   \n185         1     0        0        4  ...         0         0         0   \n186         0     2        0        4  ...         0         0         0   \n189         1     0        0        3  ...         0         1         5   \n\n     crescent  triangle  icon  animate text  topleft  botright  \n3           0         1     1        1    0     blue       red  \n4           0         0     0        0    0     blue       red  \n6           0         0     0        1    0    white      blue  \n7           0         1     0        0    0    black       red  \n12          0         1     0        0    0     blue      blue  \n13          0         0     0        0    0    white       red  \n15          0         0     1        0    0     blue      blue  \n17          0         0     1        1    1      red       red  \n19          0         0     1        1    0    white       red  \n24          0         0     1        1    1    white      blue  \n25          0         1     1        1    1    white      gold  \n32          0         0     0        1    0      red     green  \n33          0         0     1        1    1    white      blue  \n39          1         0     0        0    0    green     green  \n41          0         0     0        0    0    white      blue  \n47          0         1     0        0    0    white     green  \n48          0         0     0        1    0    green     green  \n53          0         1     0        0    0    green       red  \n55          0         0     0        0    0    white     white  \n56          0         0     1        1    1    white      blue  \n60          0         0     0        0    0     blue       red  \n61          0         0     1        0    0      red       red  \n67          0         0     1        0    0    white       red  \n69          0         0     0        0    0    white       red  \n70          0         1     0        1    0      red       red  \n71          0         0     1        1    1      red       red  \n80          0         0     0        0    0     blue      blue  \n94          0         0     1        1    0      red      blue  \n101         0         0     1        0    0     blue       red  \n102         0         0     0        0    0      red      blue  \n106         1         0     0        0    0      red       red  \n108         0         0     1        0    0    white       red  \n109         0         0     1        0    0     blue      blue  \n113         0         0     0        0    0     blue      blue  \n114         0         0     0        0    0      red     white  \n116         0         0     1        1    0    white      blue  \n119         0         0     0        0    0     blue      blue  \n122         0         0     0        0    0    white     white  \n127         0         0     0        0    0    white      gold  \n141         0         0     0        0    0    white     brown  \n144         0         0     0        0    0    white      blue  \n145         0         1     0        0    0    green     green  \n148         0         0     0        0    0      red     green  \n151         0         1     0        0    0     blue     green  \n158         0         0     1        0    0    white      blue  \n159         0         1     0        0    0    green       red  \n160         0         1     0        0    0     blue      blue  \n161         0         0     1        1    1     blue     green  \n163         0         0     0        0    0    green     green  \n172         0         0     0        0    0    white       red  \n176         0         0     1        1    0    white      blue  \n177         0         0     0        0    0    white      blue  \n182         0         0     1        1    1    white     white  \n185         0         1     0        1    0    black     green  \n186         0         0     1        0    0     gold     white  \n189         0         0     0        0    0     blue       red  \n\n[56 rows x 30 columns]",
      "text/html": "<div>\n<style scoped>\n    .dataframe tbody tr th:only-of-type {\n        vertical-align: middle;\n    }\n\n    .dataframe tbody tr th {\n        vertical-align: top;\n    }\n\n    .dataframe thead th {\n        text-align: right;\n    }\n</style>\n<table border=\"1\" class=\"dataframe\">\n  <thead>\n    <tr style=\"text-align: right;\">\n      <th></th>\n      <th>name</th>\n      <th>landmass</th>\n      <th>zone</th>\n      <th>area</th>\n      <th>population</th>\n      <th>language</th>\n      <th>religion</th>\n      <th>bars</th>\n      <th>stripes</th>\n      <th>colours</th>\n      <th>...</th>\n      <th>saltires</th>\n      <th>quarters</th>\n      <th>sunstars</th>\n      <th>crescent</th>\n      <th>triangle</th>\n      <th>icon</th>\n      <th>animate</th>\n      <th>text</th>\n      <th>topleft</th>\n      <th>botright</th>\n    </tr>\n  </thead>\n  <tbody>\n    <tr>\n      <th>3</th>\n      <td>American-Samoa</td>\n      <td>6</td>\n      <td>3</td>\n      <td>0</td>\n      <td>0</td>\n      <td>1</td>\n      <td>1</td>\n      <td>0</td>\n      <td>0</td>\n      <td>5</td>\n      <td>...</td>\n      <td>0</td>\n      <td>0</td>\n      <td>0</td>\n      <td>0</td>\n      <td>1</td>\n      <td>1</td>\n      <td>1</td>\n      <td>0</td>\n      <td>blue</td>\n      <td>red</td>\n    </tr>\n    <tr>\n      <th>4</th>\n      <td>Andorra</td>\n      <td>3</td>\n      <td>1</td>\n      <td>0</td>\n      <td>0</td>\n      <td>6</td>\n      <td>0</td>\n      <td>3</td>\n      <td>0</td>\n      <td>3</td>\n      <td>...</td>\n      <td>0</td>\n      <td>0</td>\n      <td>0</td>\n      <td>0</td>\n      <td>0</td>\n      <td>0</td>\n      <td>0</td>\n      <td>0</td>\n      <td>blue</td>\n      <td>red</td>\n    </tr>\n    <tr>\n      <th>6</th>\n      <td>Anguilla</td>\n      <td>1</td>\n      <td>4</td>\n      <td>0</td>\n      <td>0</td>\n      <td>1</td>\n      <td>1</td>\n      <td>0</td>\n      <td>1</td>\n      <td>3</td>\n      <td>...</td>\n      <td>0</td>\n      <td>0</td>\n      <td>0</td>\n      <td>0</td>\n      <td>0</td>\n      <td>0</td>\n      <td>1</td>\n      <td>0</td>\n      <td>white</td>\n      <td>blue</td>\n    </tr>\n    <tr>\n      <th>7</th>\n      <td>Antigua-Barbuda</td>\n      <td>1</td>\n      <td>4</td>\n      <td>0</td>\n      <td>0</td>\n      <td>1</td>\n      <td>1</td>\n      <td>0</td>\n      <td>1</td>\n      <td>5</td>\n      <td>...</td>\n      <td>0</td>\n      <td>0</td>\n      <td>1</td>\n      <td>0</td>\n      <td>1</td>\n      <td>0</td>\n      <td>0</td>\n      <td>0</td>\n      <td>black</td>\n      <td>red</td>\n    </tr>\n    <tr>\n      <th>12</th>\n      <td>Bahamas</td>\n      <td>1</td>\n      <td>4</td>\n      <td>19</td>\n      <td>0</td>\n      <td>1</td>\n      <td>1</td>\n      <td>0</td>\n      <td>3</td>\n      <td>3</td>\n      <td>...</td>\n      <td>0</td>\n      <td>0</td>\n      <td>0</td>\n      <td>0</td>\n      <td>1</td>\n      <td>0</td>\n      <td>0</td>\n      <td>0</td>\n      <td>blue</td>\n      <td>blue</td>\n    </tr>\n    <tr>\n      <th>13</th>\n      <td>Bahrain</td>\n      <td>5</td>\n      <td>1</td>\n      <td>1</td>\n      <td>0</td>\n      <td>8</td>\n      <td>2</td>\n      <td>0</td>\n      <td>0</td>\n      <td>2</td>\n      <td>...</td>\n      <td>0</td>\n      <td>0</td>\n      <td>0</td>\n      <td>0</td>\n      <td>0</td>\n      <td>0</td>\n      <td>0</td>\n      <td>0</td>\n      <td>white</td>\n      <td>red</td>\n    </tr>\n    <tr>\n      <th>15</th>\n      <td>Barbados</td>\n      <td>1</td>\n      <td>4</td>\n      <td>0</td>\n      <td>0</td>\n      <td>1</td>\n      <td>1</td>\n      <td>3</td>\n      <td>0</td>\n      <td>3</td>\n      <td>...</td>\n      <td>0</td>\n      <td>0</td>\n      <td>0</td>\n      <td>0</td>\n      <td>0</td>\n      <td>1</td>\n      <td>0</td>\n      <td>0</td>\n      <td>blue</td>\n      <td>blue</td>\n    </tr>\n    <tr>\n      <th>17</th>\n      <td>Belize</td>\n      <td>1</td>\n      <td>4</td>\n      <td>23</td>\n      <td>0</td>\n      <td>1</td>\n      <td>1</td>\n      <td>0</td>\n      <td>2</td>\n      <td>8</td>\n      <td>...</td>\n      <td>0</td>\n      <td>0</td>\n      <td>0</td>\n      <td>0</td>\n      <td>0</td>\n      <td>1</td>\n      <td>1</td>\n      <td>1</td>\n      <td>red</td>\n      <td>red</td>\n    </tr>\n    <tr>\n      <th>19</th>\n      <td>Bermuda</td>\n      <td>1</td>\n      <td>4</td>\n      <td>0</td>\n      <td>0</td>\n      <td>1</td>\n      <td>1</td>\n      <td>0</td>\n      <td>0</td>\n      <td>6</td>\n      <td>...</td>\n      <td>1</td>\n      <td>1</td>\n      <td>0</td>\n      <td>0</td>\n      <td>0</td>\n      <td>1</td>\n      <td>1</td>\n      <td>0</td>\n      <td>white</td>\n      <td>red</td>\n    </tr>\n    <tr>\n      <th>24</th>\n      <td>British-Virgin-Isles</td>\n      <td>1</td>\n      <td>4</td>\n      <td>0</td>\n      <td>0</td>\n      <td>1</td>\n      <td>1</td>\n      <td>0</td>\n      <td>0</td>\n      <td>6</td>\n      <td>...</td>\n      <td>1</td>\n      <td>1</td>\n      <td>0</td>\n      <td>0</td>\n      <td>0</td>\n      <td>1</td>\n      <td>1</td>\n      <td>1</td>\n      <td>white</td>\n      <td>blue</td>\n    </tr>\n    <tr>\n      <th>25</th>\n      <td>Brunei</td>\n      <td>5</td>\n      <td>1</td>\n      <td>6</td>\n      <td>0</td>\n      <td>10</td>\n      <td>2</td>\n      <td>0</td>\n      <td>0</td>\n      <td>4</td>\n      <td>...</td>\n      <td>0</td>\n      <td>0</td>\n      <td>0</td>\n      <td>0</td>\n      <td>1</td>\n      <td>1</td>\n      <td>1</td>\n      <td>1</td>\n      <td>white</td>\n      <td>gold</td>\n    </tr>\n    <tr>\n      <th>32</th>\n      <td>Cape-Verde-Islands</td>\n      <td>4</td>\n      <td>4</td>\n      <td>4</td>\n      <td>0</td>\n      <td>6</td>\n      <td>0</td>\n      <td>1</td>\n      <td>2</td>\n      <td>5</td>\n      <td>...</td>\n      <td>0</td>\n      <td>0</td>\n      <td>1</td>\n      <td>0</td>\n      <td>0</td>\n      <td>0</td>\n      <td>1</td>\n      <td>0</td>\n      <td>red</td>\n      <td>green</td>\n    </tr>\n    <tr>\n      <th>33</th>\n      <td>Cayman-Islands</td>\n      <td>1</td>\n      <td>4</td>\n      <td>0</td>\n      <td>0</td>\n      <td>1</td>\n      <td>1</td>\n      <td>0</td>\n      <td>0</td>\n      <td>6</td>\n      <td>...</td>\n      <td>1</td>\n      <td>1</td>\n      <td>4</td>\n      <td>0</td>\n      <td>0</td>\n      <td>1</td>\n      <td>1</td>\n      <td>1</td>\n      <td>white</td>\n      <td>blue</td>\n    </tr>\n    <tr>\n      <th>39</th>\n      <td>Comorro-Islands</td>\n      <td>4</td>\n      <td>2</td>\n      <td>2</td>\n      <td>0</td>\n      <td>3</td>\n      <td>2</td>\n      <td>0</td>\n      <td>0</td>\n      <td>2</td>\n      <td>...</td>\n      <td>0</td>\n      <td>0</td>\n      <td>4</td>\n      <td>1</td>\n      <td>0</td>\n      <td>0</td>\n      <td>0</td>\n      <td>0</td>\n      <td>green</td>\n      <td>green</td>\n    </tr>\n    <tr>\n      <th>41</th>\n      <td>Cook-Islands</td>\n      <td>6</td>\n      <td>3</td>\n      <td>0</td>\n      <td>0</td>\n      <td>1</td>\n      <td>1</td>\n      <td>0</td>\n      <td>0</td>\n      <td>4</td>\n      <td>...</td>\n      <td>1</td>\n      <td>1</td>\n      <td>15</td>\n      <td>0</td>\n      <td>0</td>\n      <td>0</td>\n      <td>0</td>\n      <td>0</td>\n      <td>white</td>\n      <td>blue</td>\n    </tr>\n    <tr>\n      <th>47</th>\n      <td>Djibouti</td>\n      <td>4</td>\n      <td>1</td>\n      <td>22</td>\n      <td>0</td>\n      <td>3</td>\n      <td>2</td>\n      <td>0</td>\n      <td>0</td>\n      <td>4</td>\n      <td>...</td>\n      <td>0</td>\n      <td>0</td>\n      <td>1</td>\n      <td>0</td>\n      <td>1</td>\n      <td>0</td>\n      <td>0</td>\n      <td>0</td>\n      <td>white</td>\n      <td>green</td>\n    </tr>\n    <tr>\n      <th>48</th>\n      <td>Dominica</td>\n      <td>1</td>\n      <td>4</td>\n      <td>0</td>\n      <td>0</td>\n      <td>1</td>\n      <td>1</td>\n      <td>0</td>\n      <td>0</td>\n      <td>6</td>\n      <td>...</td>\n      <td>0</td>\n      <td>0</td>\n      <td>10</td>\n      <td>0</td>\n      <td>0</td>\n      <td>0</td>\n      <td>1</td>\n      <td>0</td>\n      <td>green</td>\n      <td>green</td>\n    </tr>\n    <tr>\n      <th>53</th>\n      <td>Equatorial-Guinea</td>\n      <td>4</td>\n      <td>1</td>\n      <td>28</td>\n      <td>0</td>\n      <td>10</td>\n      <td>5</td>\n      <td>0</td>\n      <td>3</td>\n      <td>4</td>\n      <td>...</td>\n      <td>0</td>\n      <td>0</td>\n      <td>0</td>\n      <td>0</td>\n      <td>1</td>\n      <td>0</td>\n      <td>0</td>\n      <td>0</td>\n      <td>green</td>\n      <td>red</td>\n    </tr>\n    <tr>\n      <th>55</th>\n      <td>Faeroes</td>\n      <td>3</td>\n      <td>4</td>\n      <td>1</td>\n      <td>0</td>\n      <td>6</td>\n      <td>1</td>\n      <td>0</td>\n      <td>0</td>\n      <td>3</td>\n      <td>...</td>\n      <td>0</td>\n      <td>0</td>\n      <td>0</td>\n      <td>0</td>\n      <td>0</td>\n      <td>0</td>\n      <td>0</td>\n      <td>0</td>\n      <td>white</td>\n      <td>white</td>\n    </tr>\n    <tr>\n      <th>56</th>\n      <td>Falklands-Malvinas</td>\n      <td>2</td>\n      <td>3</td>\n      <td>12</td>\n      <td>0</td>\n      <td>1</td>\n      <td>1</td>\n      <td>0</td>\n      <td>0</td>\n      <td>6</td>\n      <td>...</td>\n      <td>1</td>\n      <td>1</td>\n      <td>0</td>\n      <td>0</td>\n      <td>0</td>\n      <td>1</td>\n      <td>1</td>\n      <td>1</td>\n      <td>white</td>\n      <td>blue</td>\n    </tr>\n    <tr>\n      <th>60</th>\n      <td>French-Guiana</td>\n      <td>2</td>\n      <td>4</td>\n      <td>91</td>\n      <td>0</td>\n      <td>3</td>\n      <td>0</td>\n      <td>3</td>\n      <td>0</td>\n      <td>3</td>\n      <td>...</td>\n      <td>0</td>\n      <td>0</td>\n      <td>0</td>\n      <td>0</td>\n      <td>0</td>\n      <td>0</td>\n      <td>0</td>\n      <td>0</td>\n      <td>blue</td>\n      <td>red</td>\n    </tr>\n    <tr>\n      <th>61</th>\n      <td>French-Polynesia</td>\n      <td>6</td>\n      <td>3</td>\n      <td>4</td>\n      <td>0</td>\n      <td>3</td>\n      <td>0</td>\n      <td>0</td>\n      <td>3</td>\n      <td>5</td>\n      <td>...</td>\n      <td>0</td>\n      <td>0</td>\n      <td>1</td>\n      <td>0</td>\n      <td>0</td>\n      <td>1</td>\n      <td>0</td>\n      <td>0</td>\n      <td>red</td>\n      <td>red</td>\n    </tr>\n    <tr>\n      <th>67</th>\n      <td>Gibraltar</td>\n      <td>3</td>\n      <td>4</td>\n      <td>0</td>\n      <td>0</td>\n      <td>1</td>\n      <td>1</td>\n      <td>0</td>\n      <td>1</td>\n      <td>3</td>\n      <td>...</td>\n      <td>0</td>\n      <td>0</td>\n      <td>0</td>\n      <td>0</td>\n      <td>0</td>\n      <td>1</td>\n      <td>0</td>\n      <td>0</td>\n      <td>white</td>\n      <td>red</td>\n    </tr>\n    <tr>\n      <th>69</th>\n      <td>Greenland</td>\n      <td>1</td>\n      <td>4</td>\n      <td>2176</td>\n      <td>0</td>\n      <td>6</td>\n      <td>1</td>\n      <td>0</td>\n      <td>0</td>\n      <td>2</td>\n      <td>...</td>\n      <td>0</td>\n      <td>0</td>\n      <td>0</td>\n      <td>0</td>\n      <td>0</td>\n      <td>0</td>\n      <td>0</td>\n      <td>0</td>\n      <td>white</td>\n      <td>red</td>\n    </tr>\n    <tr>\n      <th>70</th>\n      <td>Grenada</td>\n      <td>1</td>\n      <td>4</td>\n      <td>0</td>\n      <td>0</td>\n      <td>1</td>\n      <td>1</td>\n      <td>0</td>\n      <td>0</td>\n      <td>3</td>\n      <td>...</td>\n      <td>0</td>\n      <td>0</td>\n      <td>7</td>\n      <td>0</td>\n      <td>1</td>\n      <td>0</td>\n      <td>1</td>\n      <td>0</td>\n      <td>red</td>\n      <td>red</td>\n    </tr>\n    <tr>\n      <th>71</th>\n      <td>Guam</td>\n      <td>6</td>\n      <td>1</td>\n      <td>0</td>\n      <td>0</td>\n      <td>1</td>\n      <td>1</td>\n      <td>0</td>\n      <td>0</td>\n      <td>7</td>\n      <td>...</td>\n      <td>0</td>\n      <td>0</td>\n      <td>0</td>\n      <td>0</td>\n      <td>0</td>\n      <td>1</td>\n      <td>1</td>\n      <td>1</td>\n      <td>red</td>\n      <td>red</td>\n    </tr>\n    <tr>\n      <th>80</th>\n      <td>Iceland</td>\n      <td>3</td>\n      <td>4</td>\n      <td>103</td>\n      <td>0</td>\n      <td>6</td>\n      <td>1</td>\n      <td>0</td>\n      <td>0</td>\n      <td>3</td>\n      <td>...</td>\n      <td>0</td>\n      <td>0</td>\n      <td>0</td>\n      <td>0</td>\n      <td>0</td>\n      <td>0</td>\n      <td>0</td>\n      <td>0</td>\n      <td>blue</td>\n      <td>blue</td>\n    </tr>\n    <tr>\n      <th>94</th>\n      <td>Kiribati</td>\n      <td>6</td>\n      <td>1</td>\n      <td>0</td>\n      <td>0</td>\n      <td>1</td>\n      <td>1</td>\n      <td>0</td>\n      <td>0</td>\n      <td>4</td>\n      <td>...</td>\n      <td>0</td>\n      <td>0</td>\n      <td>1</td>\n      <td>0</td>\n      <td>0</td>\n      <td>1</td>\n      <td>1</td>\n      <td>0</td>\n      <td>red</td>\n      <td>blue</td>\n    </tr>\n    <tr>\n      <th>101</th>\n      <td>Liechtenstein</td>\n      <td>3</td>\n      <td>1</td>\n      <td>0</td>\n      <td>0</td>\n      <td>4</td>\n      <td>0</td>\n      <td>0</td>\n      <td>2</td>\n      <td>3</td>\n      <td>...</td>\n      <td>0</td>\n      <td>0</td>\n      <td>0</td>\n      <td>0</td>\n      <td>0</td>\n      <td>1</td>\n      <td>0</td>\n      <td>0</td>\n      <td>blue</td>\n      <td>red</td>\n    </tr>\n    <tr>\n      <th>102</th>\n      <td>Luxembourg</td>\n      <td>3</td>\n      <td>1</td>\n      <td>3</td>\n      <td>0</td>\n      <td>4</td>\n      <td>0</td>\n      <td>0</td>\n      <td>3</td>\n      <td>3</td>\n      <td>...</td>\n      <td>0</td>\n      <td>0</td>\n      <td>0</td>\n      <td>0</td>\n      <td>0</td>\n      <td>0</td>\n      <td>0</td>\n      <td>0</td>\n      <td>red</td>\n      <td>blue</td>\n    </tr>\n    <tr>\n      <th>106</th>\n      <td>Maldive-Islands</td>\n      <td>5</td>\n      <td>1</td>\n      <td>0</td>\n      <td>0</td>\n      <td>10</td>\n      <td>2</td>\n      <td>0</td>\n      <td>0</td>\n      <td>3</td>\n      <td>...</td>\n      <td>0</td>\n      <td>0</td>\n      <td>0</td>\n      <td>1</td>\n      <td>0</td>\n      <td>0</td>\n      <td>0</td>\n      <td>0</td>\n      <td>red</td>\n      <td>red</td>\n    </tr>\n    <tr>\n      <th>108</th>\n      <td>Malta</td>\n      <td>3</td>\n      <td>1</td>\n      <td>0</td>\n      <td>0</td>\n      <td>10</td>\n      <td>0</td>\n      <td>2</td>\n      <td>0</td>\n      <td>3</td>\n      <td>...</td>\n      <td>0</td>\n      <td>0</td>\n      <td>0</td>\n      <td>0</td>\n      <td>0</td>\n      <td>1</td>\n      <td>0</td>\n      <td>0</td>\n      <td>white</td>\n      <td>red</td>\n    </tr>\n    <tr>\n      <th>109</th>\n      <td>Marianas</td>\n      <td>6</td>\n      <td>1</td>\n      <td>0</td>\n      <td>0</td>\n      <td>10</td>\n      <td>1</td>\n      <td>0</td>\n      <td>0</td>\n      <td>3</td>\n      <td>...</td>\n      <td>0</td>\n      <td>0</td>\n      <td>1</td>\n      <td>0</td>\n      <td>0</td>\n      <td>1</td>\n      <td>0</td>\n      <td>0</td>\n      <td>blue</td>\n      <td>blue</td>\n    </tr>\n    <tr>\n      <th>113</th>\n      <td>Micronesia</td>\n      <td>6</td>\n      <td>1</td>\n      <td>1</td>\n      <td>0</td>\n      <td>10</td>\n      <td>1</td>\n      <td>0</td>\n      <td>0</td>\n      <td>2</td>\n      <td>...</td>\n      <td>0</td>\n      <td>0</td>\n      <td>4</td>\n      <td>0</td>\n      <td>0</td>\n      <td>0</td>\n      <td>0</td>\n      <td>0</td>\n      <td>blue</td>\n      <td>blue</td>\n    </tr>\n    <tr>\n      <th>114</th>\n      <td>Monaco</td>\n      <td>3</td>\n      <td>1</td>\n      <td>0</td>\n      <td>0</td>\n      <td>3</td>\n      <td>0</td>\n      <td>0</td>\n      <td>2</td>\n      <td>2</td>\n      <td>...</td>\n      <td>0</td>\n      <td>0</td>\n      <td>0</td>\n      <td>0</td>\n      <td>0</td>\n      <td>0</td>\n      <td>0</td>\n      <td>0</td>\n      <td>red</td>\n      <td>white</td>\n    </tr>\n    <tr>\n      <th>116</th>\n      <td>Montserrat</td>\n      <td>1</td>\n      <td>4</td>\n      <td>0</td>\n      <td>0</td>\n      <td>1</td>\n      <td>1</td>\n      <td>0</td>\n      <td>0</td>\n      <td>7</td>\n      <td>...</td>\n      <td>1</td>\n      <td>1</td>\n      <td>0</td>\n      <td>0</td>\n      <td>0</td>\n      <td>1</td>\n      <td>1</td>\n      <td>0</td>\n      <td>white</td>\n      <td>blue</td>\n    </tr>\n    <tr>\n      <th>119</th>\n      <td>Nauru</td>\n      <td>6</td>\n      <td>2</td>\n      <td>0</td>\n      <td>0</td>\n      <td>10</td>\n      <td>1</td>\n      <td>0</td>\n      <td>3</td>\n      <td>3</td>\n      <td>...</td>\n      <td>0</td>\n      <td>0</td>\n      <td>1</td>\n      <td>0</td>\n      <td>0</td>\n      <td>0</td>\n      <td>0</td>\n      <td>0</td>\n      <td>blue</td>\n      <td>blue</td>\n    </tr>\n    <tr>\n      <th>122</th>\n      <td>Netherlands-Antilles</td>\n      <td>1</td>\n      <td>4</td>\n      <td>0</td>\n      <td>0</td>\n      <td>6</td>\n      <td>1</td>\n      <td>0</td>\n      <td>1</td>\n      <td>3</td>\n      <td>...</td>\n      <td>0</td>\n      <td>0</td>\n      <td>6</td>\n      <td>0</td>\n      <td>0</td>\n      <td>0</td>\n      <td>0</td>\n      <td>0</td>\n      <td>white</td>\n      <td>white</td>\n    </tr>\n    <tr>\n      <th>127</th>\n      <td>Niue</td>\n      <td>6</td>\n      <td>3</td>\n      <td>0</td>\n      <td>0</td>\n      <td>1</td>\n      <td>1</td>\n      <td>0</td>\n      <td>0</td>\n      <td>4</td>\n      <td>...</td>\n      <td>1</td>\n      <td>1</td>\n      <td>5</td>\n      <td>0</td>\n      <td>0</td>\n      <td>0</td>\n      <td>0</td>\n      <td>0</td>\n      <td>white</td>\n      <td>gold</td>\n    </tr>\n    <tr>\n      <th>141</th>\n      <td>Qatar</td>\n      <td>5</td>\n      <td>1</td>\n      <td>11</td>\n      <td>0</td>\n      <td>8</td>\n      <td>2</td>\n      <td>0</td>\n      <td>0</td>\n      <td>2</td>\n      <td>...</td>\n      <td>0</td>\n      <td>0</td>\n      <td>0</td>\n      <td>0</td>\n      <td>0</td>\n      <td>0</td>\n      <td>0</td>\n      <td>0</td>\n      <td>white</td>\n      <td>brown</td>\n    </tr>\n    <tr>\n      <th>144</th>\n      <td>San-Marino</td>\n      <td>3</td>\n      <td>1</td>\n      <td>0</td>\n      <td>0</td>\n      <td>6</td>\n      <td>0</td>\n      <td>0</td>\n      <td>2</td>\n      <td>2</td>\n      <td>...</td>\n      <td>0</td>\n      <td>0</td>\n      <td>0</td>\n      <td>0</td>\n      <td>0</td>\n      <td>0</td>\n      <td>0</td>\n      <td>0</td>\n      <td>white</td>\n      <td>blue</td>\n    </tr>\n    <tr>\n      <th>145</th>\n      <td>Sao-Tome</td>\n      <td>4</td>\n      <td>1</td>\n      <td>0</td>\n      <td>0</td>\n      <td>6</td>\n      <td>0</td>\n      <td>0</td>\n      <td>3</td>\n      <td>4</td>\n      <td>...</td>\n      <td>0</td>\n      <td>0</td>\n      <td>2</td>\n      <td>0</td>\n      <td>1</td>\n      <td>0</td>\n      <td>0</td>\n      <td>0</td>\n      <td>green</td>\n      <td>green</td>\n    </tr>\n    <tr>\n      <th>148</th>\n      <td>Seychelles</td>\n      <td>4</td>\n      <td>2</td>\n      <td>0</td>\n      <td>0</td>\n      <td>1</td>\n      <td>1</td>\n      <td>0</td>\n      <td>0</td>\n      <td>3</td>\n      <td>...</td>\n      <td>0</td>\n      <td>0</td>\n      <td>0</td>\n      <td>0</td>\n      <td>0</td>\n      <td>0</td>\n      <td>0</td>\n      <td>0</td>\n      <td>red</td>\n      <td>green</td>\n    </tr>\n    <tr>\n      <th>151</th>\n      <td>Soloman-Islands</td>\n      <td>6</td>\n      <td>2</td>\n      <td>30</td>\n      <td>0</td>\n      <td>1</td>\n      <td>1</td>\n      <td>0</td>\n      <td>0</td>\n      <td>4</td>\n      <td>...</td>\n      <td>0</td>\n      <td>0</td>\n      <td>5</td>\n      <td>0</td>\n      <td>1</td>\n      <td>0</td>\n      <td>0</td>\n      <td>0</td>\n      <td>blue</td>\n      <td>green</td>\n    </tr>\n    <tr>\n      <th>158</th>\n      <td>St-Helena</td>\n      <td>4</td>\n      <td>3</td>\n      <td>0</td>\n      <td>0</td>\n      <td>1</td>\n      <td>1</td>\n      <td>0</td>\n      <td>0</td>\n      <td>7</td>\n      <td>...</td>\n      <td>1</td>\n      <td>1</td>\n      <td>0</td>\n      <td>0</td>\n      <td>0</td>\n      <td>1</td>\n      <td>0</td>\n      <td>0</td>\n      <td>white</td>\n      <td>blue</td>\n    </tr>\n    <tr>\n      <th>159</th>\n      <td>St-Kitts-Nevis</td>\n      <td>1</td>\n      <td>4</td>\n      <td>0</td>\n      <td>0</td>\n      <td>1</td>\n      <td>1</td>\n      <td>0</td>\n      <td>0</td>\n      <td>5</td>\n      <td>...</td>\n      <td>0</td>\n      <td>0</td>\n      <td>2</td>\n      <td>0</td>\n      <td>1</td>\n      <td>0</td>\n      <td>0</td>\n      <td>0</td>\n      <td>green</td>\n      <td>red</td>\n    </tr>\n    <tr>\n      <th>160</th>\n      <td>St-Lucia</td>\n      <td>1</td>\n      <td>4</td>\n      <td>0</td>\n      <td>0</td>\n      <td>1</td>\n      <td>1</td>\n      <td>0</td>\n      <td>0</td>\n      <td>4</td>\n      <td>...</td>\n      <td>0</td>\n      <td>0</td>\n      <td>0</td>\n      <td>0</td>\n      <td>1</td>\n      <td>0</td>\n      <td>0</td>\n      <td>0</td>\n      <td>blue</td>\n      <td>blue</td>\n    </tr>\n    <tr>\n      <th>161</th>\n      <td>St-Vincent</td>\n      <td>1</td>\n      <td>4</td>\n      <td>0</td>\n      <td>0</td>\n      <td>1</td>\n      <td>1</td>\n      <td>5</td>\n      <td>0</td>\n      <td>4</td>\n      <td>...</td>\n      <td>0</td>\n      <td>0</td>\n      <td>0</td>\n      <td>0</td>\n      <td>0</td>\n      <td>1</td>\n      <td>1</td>\n      <td>1</td>\n      <td>blue</td>\n      <td>green</td>\n    </tr>\n    <tr>\n      <th>163</th>\n      <td>Surinam</td>\n      <td>2</td>\n      <td>4</td>\n      <td>63</td>\n      <td>0</td>\n      <td>6</td>\n      <td>1</td>\n      <td>0</td>\n      <td>5</td>\n      <td>4</td>\n      <td>...</td>\n      <td>0</td>\n      <td>0</td>\n      <td>1</td>\n      <td>0</td>\n      <td>0</td>\n      <td>0</td>\n      <td>0</td>\n      <td>0</td>\n      <td>green</td>\n      <td>green</td>\n    </tr>\n    <tr>\n      <th>172</th>\n      <td>Tonga</td>\n      <td>6</td>\n      <td>2</td>\n      <td>1</td>\n      <td>0</td>\n      <td>10</td>\n      <td>1</td>\n      <td>0</td>\n      <td>0</td>\n      <td>2</td>\n      <td>...</td>\n      <td>0</td>\n      <td>1</td>\n      <td>0</td>\n      <td>0</td>\n      <td>0</td>\n      <td>0</td>\n      <td>0</td>\n      <td>0</td>\n      <td>white</td>\n      <td>red</td>\n    </tr>\n    <tr>\n      <th>176</th>\n      <td>Turks-Cocos-Islands</td>\n      <td>1</td>\n      <td>4</td>\n      <td>0</td>\n      <td>0</td>\n      <td>1</td>\n      <td>1</td>\n      <td>0</td>\n      <td>0</td>\n      <td>6</td>\n      <td>...</td>\n      <td>1</td>\n      <td>1</td>\n      <td>0</td>\n      <td>0</td>\n      <td>0</td>\n      <td>1</td>\n      <td>1</td>\n      <td>0</td>\n      <td>white</td>\n      <td>blue</td>\n    </tr>\n    <tr>\n      <th>177</th>\n      <td>Tuvalu</td>\n      <td>6</td>\n      <td>2</td>\n      <td>0</td>\n      <td>0</td>\n      <td>1</td>\n      <td>1</td>\n      <td>0</td>\n      <td>0</td>\n      <td>5</td>\n      <td>...</td>\n      <td>1</td>\n      <td>1</td>\n      <td>9</td>\n      <td>0</td>\n      <td>0</td>\n      <td>0</td>\n      <td>0</td>\n      <td>0</td>\n      <td>white</td>\n      <td>blue</td>\n    </tr>\n    <tr>\n      <th>182</th>\n      <td>US-Virgin-Isles</td>\n      <td>1</td>\n      <td>4</td>\n      <td>0</td>\n      <td>0</td>\n      <td>1</td>\n      <td>1</td>\n      <td>0</td>\n      <td>0</td>\n      <td>6</td>\n      <td>...</td>\n      <td>0</td>\n      <td>0</td>\n      <td>0</td>\n      <td>0</td>\n      <td>0</td>\n      <td>1</td>\n      <td>1</td>\n      <td>1</td>\n      <td>white</td>\n      <td>white</td>\n    </tr>\n    <tr>\n      <th>185</th>\n      <td>Vanuatu</td>\n      <td>6</td>\n      <td>2</td>\n      <td>15</td>\n      <td>0</td>\n      <td>6</td>\n      <td>1</td>\n      <td>0</td>\n      <td>0</td>\n      <td>4</td>\n      <td>...</td>\n      <td>0</td>\n      <td>0</td>\n      <td>0</td>\n      <td>0</td>\n      <td>1</td>\n      <td>0</td>\n      <td>1</td>\n      <td>0</td>\n      <td>black</td>\n      <td>green</td>\n    </tr>\n    <tr>\n      <th>186</th>\n      <td>Vatican-City</td>\n      <td>3</td>\n      <td>1</td>\n      <td>0</td>\n      <td>0</td>\n      <td>6</td>\n      <td>0</td>\n      <td>2</td>\n      <td>0</td>\n      <td>4</td>\n      <td>...</td>\n      <td>0</td>\n      <td>0</td>\n      <td>0</td>\n      <td>0</td>\n      <td>0</td>\n      <td>1</td>\n      <td>0</td>\n      <td>0</td>\n      <td>gold</td>\n      <td>white</td>\n    </tr>\n    <tr>\n      <th>189</th>\n      <td>Western-Samoa</td>\n      <td>6</td>\n      <td>3</td>\n      <td>3</td>\n      <td>0</td>\n      <td>1</td>\n      <td>1</td>\n      <td>0</td>\n      <td>0</td>\n      <td>3</td>\n      <td>...</td>\n      <td>0</td>\n      <td>1</td>\n      <td>5</td>\n      <td>0</td>\n      <td>0</td>\n      <td>0</td>\n      <td>0</td>\n      <td>0</td>\n      <td>blue</td>\n      <td>red</td>\n    </tr>\n  </tbody>\n</table>\n<p>56 rows × 30 columns</p>\n</div>"
     },
     "execution_count": 9,
     "metadata": {},
     "output_type": "execute_result"
    }
   ],
   "source": [
    "data[data.population==0]"
   ]
  },
  {
   "cell_type": "markdown",
   "metadata": {},
   "source": [
    "Area and population equal to 0 looks fine, coutnries are usually small, so value was just rounded"
   ]
  },
  {
   "cell_type": "code",
   "execution_count": 10,
   "metadata": {},
   "outputs": [
    {
     "data": {
      "text/plain": "0"
     },
     "execution_count": 10,
     "metadata": {},
     "output_type": "execute_result"
    }
   ],
   "source": [
    "import numpy as np\n",
    "np.sum(data[dummies].max()!=1) + np.sum(data[dummies].min()!=0)"
   ]
  },
  {
   "cell_type": "markdown",
   "metadata": {},
   "source": [
    "Dummies are fair"
   ]
  },
  {
   "cell_type": "code",
   "execution_count": 11,
   "metadata": {},
   "outputs": [
    {
     "name": "stdout",
     "output_type": "stream",
     "text": [
      "landmass 6\n",
      "zone 4\n",
      "language 10\n",
      "mainhue 8\n",
      "topleft 7\n",
      "botright 8\n",
      "Total: 43\n"
     ]
    }
   ],
   "source": [
    "total = 0\n",
    "for cat in categoricals:\n",
    "    total += len(data[cat].unique())\n",
    "    print(cat,len(data[cat].unique()))\n",
    "print('Total:',total)"
   ]
  },
  {
   "cell_type": "markdown",
   "metadata": {},
   "source": [
    "Overall number of catergoricals is not high => we can use one-hot encoding"
   ]
  },
  {
   "cell_type": "code",
   "execution_count": 12,
   "metadata": {},
   "outputs": [
    {
     "ename": "ModuleNotFoundError",
     "evalue": "No module named 'matplotlib.artist'",
     "output_type": "error",
     "traceback": [
      "\u001B[1;31m---------------------------------------------------------------------------\u001B[0m",
      "\u001B[1;31mModuleNotFoundError\u001B[0m                       Traceback (most recent call last)",
      "\u001B[1;32m<ipython-input-12-50a8f0440a14>\u001B[0m in \u001B[0;36m<module>\u001B[1;34m\u001B[0m\n\u001B[1;32m----> 1\u001B[1;33m \u001B[1;32mimport\u001B[0m \u001B[0mseaborn\u001B[0m \u001B[1;32mas\u001B[0m \u001B[0msbs\u001B[0m\u001B[1;33m\u001B[0m\u001B[1;33m\u001B[0m\u001B[0m\n\u001B[0m\u001B[0;32m      2\u001B[0m \u001B[1;33m\u001B[0m\u001B[0m\n",
      "\u001B[1;32mc:\\users\\pc\\pycharmprojects\\netology\\venv\\lib\\site-packages\\seaborn\\__init__.py\u001B[0m in \u001B[0;36m<module>\u001B[1;34m\u001B[0m\n\u001B[0;32m      4\u001B[0m \u001B[1;33m\u001B[0m\u001B[0m\n\u001B[0;32m      5\u001B[0m \u001B[1;31m# Import seaborn objects\u001B[0m\u001B[1;33m\u001B[0m\u001B[1;33m\u001B[0m\u001B[1;33m\u001B[0m\u001B[0m\n\u001B[1;32m----> 6\u001B[1;33m \u001B[1;32mfrom\u001B[0m \u001B[1;33m.\u001B[0m\u001B[0mrcmod\u001B[0m \u001B[1;32mimport\u001B[0m \u001B[1;33m*\u001B[0m\u001B[1;33m\u001B[0m\u001B[1;33m\u001B[0m\u001B[0m\n\u001B[0m\u001B[0;32m      7\u001B[0m \u001B[1;32mfrom\u001B[0m \u001B[1;33m.\u001B[0m\u001B[0mutils\u001B[0m \u001B[1;32mimport\u001B[0m \u001B[1;33m*\u001B[0m\u001B[1;33m\u001B[0m\u001B[1;33m\u001B[0m\u001B[0m\n\u001B[0;32m      8\u001B[0m \u001B[1;32mfrom\u001B[0m \u001B[1;33m.\u001B[0m\u001B[0mpalettes\u001B[0m \u001B[1;32mimport\u001B[0m \u001B[1;33m*\u001B[0m\u001B[1;33m\u001B[0m\u001B[1;33m\u001B[0m\u001B[0m\n",
      "\u001B[1;32mc:\\users\\pc\\pycharmprojects\\netology\\venv\\lib\\site-packages\\seaborn\\rcmod.py\u001B[0m in \u001B[0;36m<module>\u001B[1;34m\u001B[0m\n\u001B[0;32m      5\u001B[0m \u001B[1;32mimport\u001B[0m \u001B[0mmatplotlib\u001B[0m \u001B[1;32mas\u001B[0m \u001B[0mmpl\u001B[0m\u001B[1;33m\u001B[0m\u001B[1;33m\u001B[0m\u001B[0m\n\u001B[0;32m      6\u001B[0m \u001B[1;32mfrom\u001B[0m \u001B[0mcycler\u001B[0m \u001B[1;32mimport\u001B[0m \u001B[0mcycler\u001B[0m\u001B[1;33m\u001B[0m\u001B[1;33m\u001B[0m\u001B[0m\n\u001B[1;32m----> 7\u001B[1;33m \u001B[1;32mfrom\u001B[0m \u001B[1;33m.\u001B[0m \u001B[1;32mimport\u001B[0m \u001B[0mpalettes\u001B[0m\u001B[1;33m,\u001B[0m \u001B[0m_orig_rc_params\u001B[0m\u001B[1;33m\u001B[0m\u001B[1;33m\u001B[0m\u001B[0m\n\u001B[0m\u001B[0;32m      8\u001B[0m \u001B[1;33m\u001B[0m\u001B[0m\n\u001B[0;32m      9\u001B[0m \u001B[1;33m\u001B[0m\u001B[0m\n",
      "\u001B[1;32mc:\\users\\pc\\pycharmprojects\\netology\\venv\\lib\\site-packages\\seaborn\\palettes.py\u001B[0m in \u001B[0;36m<module>\u001B[1;34m\u001B[0m\n\u001B[0;32m      7\u001B[0m \u001B[1;32mfrom\u001B[0m \u001B[1;33m.\u001B[0m\u001B[0mexternal\u001B[0m \u001B[1;32mimport\u001B[0m \u001B[0mhusl\u001B[0m\u001B[1;33m\u001B[0m\u001B[1;33m\u001B[0m\u001B[0m\n\u001B[0;32m      8\u001B[0m \u001B[1;33m\u001B[0m\u001B[0m\n\u001B[1;32m----> 9\u001B[1;33m \u001B[1;32mfrom\u001B[0m \u001B[1;33m.\u001B[0m\u001B[0mutils\u001B[0m \u001B[1;32mimport\u001B[0m \u001B[0mdesaturate\u001B[0m\u001B[1;33m,\u001B[0m \u001B[0mset_hls_values\u001B[0m\u001B[1;33m,\u001B[0m \u001B[0mget_color_cycle\u001B[0m\u001B[1;33m\u001B[0m\u001B[1;33m\u001B[0m\u001B[0m\n\u001B[0m\u001B[0;32m     10\u001B[0m \u001B[1;32mfrom\u001B[0m \u001B[1;33m.\u001B[0m\u001B[0mcolors\u001B[0m \u001B[1;32mimport\u001B[0m \u001B[0mxkcd_rgb\u001B[0m\u001B[1;33m,\u001B[0m \u001B[0mcrayons\u001B[0m\u001B[1;33m\u001B[0m\u001B[1;33m\u001B[0m\u001B[0m\n\u001B[0;32m     11\u001B[0m \u001B[1;33m\u001B[0m\u001B[0m\n",
      "\u001B[1;32mc:\\users\\pc\\pycharmprojects\\netology\\venv\\lib\\site-packages\\seaborn\\utils.py\u001B[0m in \u001B[0;36m<module>\u001B[1;34m\u001B[0m\n\u001B[0;32m      8\u001B[0m \u001B[1;32mimport\u001B[0m \u001B[0mmatplotlib\u001B[0m \u001B[1;32mas\u001B[0m \u001B[0mmpl\u001B[0m\u001B[1;33m\u001B[0m\u001B[1;33m\u001B[0m\u001B[0m\n\u001B[0;32m      9\u001B[0m \u001B[1;32mimport\u001B[0m \u001B[0mmatplotlib\u001B[0m\u001B[1;33m.\u001B[0m\u001B[0mcolors\u001B[0m \u001B[1;32mas\u001B[0m \u001B[0mmplcol\u001B[0m\u001B[1;33m\u001B[0m\u001B[1;33m\u001B[0m\u001B[0m\n\u001B[1;32m---> 10\u001B[1;33m \u001B[1;32mimport\u001B[0m \u001B[0mmatplotlib\u001B[0m\u001B[1;33m.\u001B[0m\u001B[0mpyplot\u001B[0m \u001B[1;32mas\u001B[0m \u001B[0mplt\u001B[0m\u001B[1;33m\u001B[0m\u001B[1;33m\u001B[0m\u001B[0m\n\u001B[0m\u001B[0;32m     11\u001B[0m \u001B[1;33m\u001B[0m\u001B[0m\n\u001B[0;32m     12\u001B[0m \u001B[1;32mimport\u001B[0m \u001B[0mwarnings\u001B[0m\u001B[1;33m\u001B[0m\u001B[1;33m\u001B[0m\u001B[0m\n",
      "\u001B[1;32mc:\\users\\pc\\pycharmprojects\\netology\\venv\\lib\\site-packages\\matplotlib\\pyplot.py\u001B[0m in \u001B[0;36m<module>\u001B[1;34m\u001B[0m\n\u001B[0;32m     30\u001B[0m \u001B[1;32mfrom\u001B[0m \u001B[0mcycler\u001B[0m \u001B[1;32mimport\u001B[0m \u001B[0mcycler\u001B[0m\u001B[1;33m\u001B[0m\u001B[1;33m\u001B[0m\u001B[0m\n\u001B[0;32m     31\u001B[0m \u001B[1;32mimport\u001B[0m \u001B[0mmatplotlib\u001B[0m\u001B[1;33m\u001B[0m\u001B[1;33m\u001B[0m\u001B[0m\n\u001B[1;32m---> 32\u001B[1;33m \u001B[1;32mimport\u001B[0m \u001B[0mmatplotlib\u001B[0m\u001B[1;33m.\u001B[0m\u001B[0mcolorbar\u001B[0m\u001B[1;33m\u001B[0m\u001B[1;33m\u001B[0m\u001B[0m\n\u001B[0m\u001B[0;32m     33\u001B[0m \u001B[1;32mimport\u001B[0m \u001B[0mmatplotlib\u001B[0m\u001B[1;33m.\u001B[0m\u001B[0mimage\u001B[0m\u001B[1;33m\u001B[0m\u001B[1;33m\u001B[0m\u001B[0m\n\u001B[0;32m     34\u001B[0m \u001B[1;32mfrom\u001B[0m \u001B[0mmatplotlib\u001B[0m \u001B[1;32mimport\u001B[0m \u001B[0mrcsetup\u001B[0m\u001B[1;33m,\u001B[0m \u001B[0mstyle\u001B[0m\u001B[1;33m\u001B[0m\u001B[1;33m\u001B[0m\u001B[0m\n",
      "\u001B[1;32mc:\\users\\pc\\pycharmprojects\\netology\\venv\\lib\\site-packages\\matplotlib\\colorbar.py\u001B[0m in \u001B[0;36m<module>\u001B[1;34m\u001B[0m\n\u001B[0;32m     25\u001B[0m \u001B[1;33m\u001B[0m\u001B[0m\n\u001B[0;32m     26\u001B[0m \u001B[1;32mimport\u001B[0m \u001B[0mmatplotlib\u001B[0m \u001B[1;32mas\u001B[0m \u001B[0mmpl\u001B[0m\u001B[1;33m\u001B[0m\u001B[1;33m\u001B[0m\u001B[0m\n\u001B[1;32m---> 27\u001B[1;33m \u001B[1;32mimport\u001B[0m \u001B[0mmatplotlib\u001B[0m\u001B[1;33m.\u001B[0m\u001B[0martist\u001B[0m \u001B[1;32mas\u001B[0m \u001B[0mmartist\u001B[0m\u001B[1;33m\u001B[0m\u001B[1;33m\u001B[0m\u001B[0m\n\u001B[0m\u001B[0;32m     28\u001B[0m \u001B[1;32mimport\u001B[0m \u001B[0mmatplotlib\u001B[0m\u001B[1;33m.\u001B[0m\u001B[0mcbook\u001B[0m \u001B[1;32mas\u001B[0m \u001B[0mcbook\u001B[0m\u001B[1;33m\u001B[0m\u001B[1;33m\u001B[0m\u001B[0m\n\u001B[0;32m     29\u001B[0m \u001B[1;32mimport\u001B[0m \u001B[0mmatplotlib\u001B[0m\u001B[1;33m.\u001B[0m\u001B[0mcollections\u001B[0m \u001B[1;32mas\u001B[0m \u001B[0mcollections\u001B[0m\u001B[1;33m\u001B[0m\u001B[1;33m\u001B[0m\u001B[0m\n",
      "\u001B[1;31mModuleNotFoundError\u001B[0m: No module named 'matplotlib.artist'"
     ]
    }
   ],
   "source": [
    "import seaborn as sbs"
   ]
  },
  {
   "cell_type": "code",
   "execution_count": null,
   "metadata": {},
   "outputs": [],
   "source": [
    "import matplotlib.pyplot as plt\n",
    "\n",
    "corr = data.drop(['name','topleft','botright'],axis=1).corr()\n",
    "fig = plt.figure(figsize=(15,10))\n",
    "ax = fig.add_subplot(111)\n",
    "cax = ax.matshow(corr,cmap='coolwarm', vmin=-1, vmax=1)\n",
    "fig.colorbar(cax)\n",
    "ticks = np.arange(0,len(corr.columns),1)\n",
    "ax.set_xticks(ticks)\n",
    "plt.xticks(rotation=90)\n",
    "ax.set_yticks(ticks)\n",
    "ax.set_xticklabels(data.columns)\n",
    "ax.set_yticklabels(data.columns)\n",
    "plt.show()"
   ]
  },
  {
   "cell_type": "markdown",
   "metadata": {},
   "source": [
    "Religion is most correletaed with landmass,bars,red,green,gold"
   ]
  },
  {
   "cell_type": "code",
   "execution_count": null,
   "metadata": {},
   "outputs": [],
   "source": [
    "_ = sbs.pairplot(data = data,vars=['landmass','bars','red','green','gold'], hue='religion')"
   ]
  },
  {
   "cell_type": "markdown",
   "metadata": {},
   "source": [
    "Out of plot above we can see some correlations between colors/bars and target variable, but to separate weel one religion from another we need to feed more features"
   ]
  },
  {
   "cell_type": "code",
   "execution_count": null,
   "metadata": {},
   "outputs": [],
   "source": [
    "y = data[target]"
   ]
  },
  {
   "cell_type": "code",
   "execution_count": null,
   "metadata": {},
   "outputs": [],
   "source": [
    "y.value_counts() #classes are heavily imbalanced"
   ]
  },
  {
   "cell_type": "markdown",
   "metadata": {},
   "source": [
    "# Data preparation"
   ]
  },
  {
   "cell_type": "code",
   "execution_count": null,
   "metadata": {},
   "outputs": [],
   "source": [
    "X = pd.concat([data[continious],data[dummies],pd.get_dummies(data[categoricals])],axis=1)\n",
    "X.info()"
   ]
  },
  {
   "cell_type": "code",
   "execution_count": null,
   "metadata": {},
   "outputs": [],
   "source": [
    "from sklearn.model_selection import StratifiedShuffleSplit\n",
    "sss = StratifiedShuffleSplit(n_splits=1,test_size=.2)\n",
    "for trn_idx,tst_idx in sss.split(X,y):\n",
    "    X_train,y_train = X.iloc[trn_idx],y.iloc[trn_idx]\n",
    "    X_test,y_test = X.iloc[tst_idx],y.iloc[tst_idx]\n",
    "    \n",
    "assert len(X_train)+len(X_test) == len(y_train)+len(y_test) == len(X) == len(y)"
   ]
  },
  {
   "cell_type": "markdown",
   "metadata": {},
   "source": [
    "# Baseline model"
   ]
  },
  {
   "cell_type": "code",
   "execution_count": null,
   "metadata": {},
   "outputs": [],
   "source": [
    "from sklearn.ensemble import RandomForestClassifier\n",
    "from sklearn.model_selection import KFold\n",
    "rfc = RandomForestClassifier(max_depth=20,min_samples_leaf=5,n_estimators=100,n_jobs=-1,random_state=42)\n",
    "\n",
    "score_on_train = 0\n",
    "for trn_idx,tst_idx in KFold(n_splits=3,random_state=42).split(X_train,y_train):\n",
    "    X_train_fold,y_train_fold = X.iloc[trn_idx],y.iloc[trn_idx]\n",
    "    X_test_fold,y_test_fold = X.iloc[tst_idx],y.iloc[tst_idx]\n",
    "    rfc.fit(X_train_fold,y_train_fold)\n",
    "    score_on_train += rfc.score(X_test_fold,y_test_fold)\n",
    "\n",
    "rfc.fit(X_train,y_train)\n",
    "print (score_on_train/3)\n",
    "print(rfc.score(X_test,y_test))"
   ]
  },
  {
   "cell_type": "markdown",
   "metadata": {},
   "source": [
    "# Feature space"
   ]
  },
  {
   "cell_type": "code",
   "execution_count": null,
   "metadata": {},
   "outputs": [],
   "source": [
    "from sklearn.preprocessing import PolynomialFeatures\n",
    "pf = PolynomialFeatures(degree=3,interaction_only=True,include_bias=False)\n",
    "X_poly = pd.concat([pd.DataFrame(pf.fit_transform(X[continious])),data[dummies],pd.get_dummies(data[categoricals])],axis=1)\n",
    "X_poly.head()"
   ]
  },
  {
   "cell_type": "code",
   "execution_count": null,
   "metadata": {},
   "outputs": [],
   "source": [
    "for trn_idx,tst_idx in sss.split(X_poly,y):\n",
    "    X_train_poly,y_train_poly = X_poly.iloc[trn_idx],y.iloc[trn_idx]\n",
    "    X_test_poly,y_test_poly = X_poly.iloc[tst_idx],y.iloc[tst_idx]"
   ]
  },
  {
   "cell_type": "code",
   "execution_count": null,
   "metadata": {},
   "outputs": [],
   "source": [
    "rfc = RandomForestClassifier(max_depth=20,min_samples_leaf=5,n_estimators=100,n_jobs=-1,random_state=42)\n",
    "\n",
    "score_on_train = 0\n",
    "for trn_idx,tst_idx in KFold(n_splits=3,random_state=42).split(X_train_poly,y_train_poly):\n",
    "    X_train_fold,y_train_fold = X_poly.iloc[trn_idx],y.iloc[trn_idx]\n",
    "    X_test_fold,y_test_fold = X_poly.iloc[tst_idx],y.iloc[tst_idx]\n",
    "    rfc.fit(X_train_fold,y_train_fold)\n",
    "    score_on_train += rfc.score(X_test_fold,y_test_fold)\n",
    "\n",
    "rfc.fit(X_train_poly,y_train_poly)\n",
    "print (score_on_train/3)\n",
    "print(rfc.score(X_test_poly,y_test_poly))"
   ]
  },
  {
   "cell_type": "code",
   "execution_count": null,
   "metadata": {},
   "outputs": [],
   "source": [
    "from sklearn.decomposition import PCA\n",
    "X_pca = pd.DataFrame(PCA(n_components=round(len(X.columns)/3)).fit_transform(X))"
   ]
  },
  {
   "cell_type": "code",
   "execution_count": null,
   "metadata": {},
   "outputs": [],
   "source": [
    "for trn_idx,tst_idx in sss.split(X_pca,y):\n",
    "    X_train_pca,y_train_pca = X_pca.iloc[trn_idx],y.iloc[trn_idx]\n",
    "    X_test_pca,y_test_pca = X_pca.iloc[tst_idx],y.iloc[tst_idx]"
   ]
  },
  {
   "cell_type": "code",
   "execution_count": null,
   "metadata": {},
   "outputs": [],
   "source": [
    "rfc = RandomForestClassifier(max_depth=20,min_samples_leaf=5,n_estimators=100,n_jobs=-1,random_state=42)\n",
    "\n",
    "score_on_train = 0\n",
    "for trn_idx,tst_idx in KFold(n_splits=3,random_state=42).split(X_train_pca,y_train_pca):\n",
    "    X_train_fold,y_train_fold = X_pca.iloc[trn_idx],y.iloc[trn_idx]\n",
    "    X_test_fold,y_test_fold = X_pca.iloc[tst_idx],y.iloc[tst_idx]\n",
    "    rfc.fit(X_train_fold,y_train_fold)\n",
    "    score_on_train += rfc.score(X_test_fold,y_test_fold)\n",
    "\n",
    "rfc.fit(X_train_pca,y_train_pca)\n",
    "print (score_on_train/3)\n",
    "print(rfc.score(X_test_pca,y_test_pca))"
   ]
  },
  {
   "cell_type": "markdown",
   "metadata": {},
   "source": [
    "During these test both reduction and increasment of feature space didn't show improvements on validation score."
   ]
  },
  {
   "cell_type": "markdown",
   "metadata": {},
   "source": [
    "# Class balancing"
   ]
  },
  {
   "cell_type": "markdown",
   "metadata": {},
   "source": [
    "## Oversampling"
   ]
  },
  {
   "cell_type": "code",
   "execution_count": null,
   "metadata": {},
   "outputs": [],
   "source": [
    "classes_count = y.value_counts()\n",
    "max_class_count = classes_count.max()\n",
    "\n",
    "X_over = X.copy()\n",
    "y_over = y.copy()"
   ]
  },
  {
   "cell_type": "code",
   "execution_count": null,
   "metadata": {},
   "outputs": [],
   "source": [
    "for cls in zip(classes_count,classes_count.index):\n",
    "    if cls[0] != max_class_count:\n",
    "        idx = np.random.choice(y[y==cls[1]].index,size = max_class_count-cls[0])\n",
    "        X_add = X.iloc[idx]\n",
    "        y_add = y.iloc[idx]\n",
    "        X_over = X_over.append(X_add)\n",
    "        y_over = y_over.append(y_add)"
   ]
  },
  {
   "cell_type": "code",
   "execution_count": null,
   "metadata": {},
   "outputs": [],
   "source": [
    "y_over.value_counts()"
   ]
  },
  {
   "cell_type": "code",
   "execution_count": null,
   "metadata": {},
   "outputs": [],
   "source": [
    "from sklearn.model_selection import train_test_split\n",
    "X_train_over,X_test_over,y_train_over,y_test_over = train_test_split(X_over,y_over,test_size=.2, random_state=42)"
   ]
  },
  {
   "cell_type": "code",
   "execution_count": null,
   "metadata": {},
   "outputs": [],
   "source": [
    "rfc = RandomForestClassifier(max_depth=20,min_samples_leaf=5,n_estimators=100,n_jobs=-1,random_state=42)\n",
    "\n",
    "score_on_train = 0\n",
    "for trn_idx,tst_idx in KFold(n_splits=3,random_state=42).split(X_train_over,y_train_over):\n",
    "    X_train_fold,y_train_fold = X_over.iloc[trn_idx],y_over.iloc[trn_idx]\n",
    "    X_test_fold,y_test_fold = X_over.iloc[tst_idx],y_over.iloc[tst_idx]\n",
    "    rfc.fit(X_train_fold,y_train_fold)\n",
    "    score_on_train += rfc.score(X_test_fold,y_test_fold)\n",
    "\n",
    "rfc.fit(X_train_over,y_train_over)\n",
    "print (score_on_train/3)\n",
    "print(rfc.score(X_test_over,y_test_over))"
   ]
  },
  {
   "cell_type": "markdown",
   "metadata": {},
   "source": [
    "Oversmapling shows good result on train and test and can be used"
   ]
  },
  {
   "cell_type": "markdown",
   "metadata": {},
   "source": [
    "## Undersampling\n",
    "I assume that it will not work well, as minor classes are very small and this technique will reduce dataset significantly"
   ]
  },
  {
   "cell_type": "markdown",
   "metadata": {},
   "source": [
    "# Model training"
   ]
  },
  {
   "cell_type": "code",
   "execution_count": null,
   "metadata": {},
   "outputs": [],
   "source": [
    "from sklearn.model_selection import GridSearchCV\n",
    "params = {'n_estimators':[10,50,100,200,500,1000],\n",
    "          'max_depth':[5,10,15,20,30],\n",
    "          'min_samples_leaf':[1,5,10,20],\n",
    "          'random_state':[42],\n",
    "          'n_jobs':[-1]}\n",
    "\n",
    "rf_grid = GridSearchCV(RandomForestClassifier(),param_grid=params,verbose=1,n_jobs=-1,cv=3)\n",
    "rf_grid.fit(X_train_over,y_train_over)"
   ]
  },
  {
   "cell_type": "code",
   "execution_count": null,
   "metadata": {},
   "outputs": [],
   "source": [
    "from sklearn.linear_model import LogisticRegression\n",
    "params = {'penalty':['l2'],\n",
    "          'max_iter':[100,500,1000],\n",
    "          'multi_class':['multinomial'],\n",
    "          'n_jobs':[-1],\n",
    "          'C':[0.01,0.1,0.5,1.0],\n",
    "          'solver':['newton-cg','sag','saga','lbfgs']}\n",
    "lr_grid = GridSearchCV(LogisticRegression(),param_grid=params,verbose=1,n_jobs=-1,cv=3)\n",
    "lr_grid.fit(X_train_over,y_train_over)"
   ]
  },
  {
   "cell_type": "code",
   "execution_count": null,
   "metadata": {},
   "outputs": [],
   "source": [
    "from sklearn.metrics import accuracy_score,f1_score,precision_score,recall_score\n",
    "rf_pred = rf_grid.predict(X_test_over)\n",
    "lr_pred = lr_grid.predict(X_test_over)\n",
    "print (f\"ACCURACY  : RF={accuracy_score(y_test_over,rf_pred):.3f}, LR={accuracy_score(y_test_over,lr_pred):.3f}\")\n",
    "print (f\"F1-SCORE  : RF={f1_score(y_test_over,rf_pred,average='macro'):.3f}, LR={f1_score(y_test_over,lr_pred,average='macro'):.3f}\")\n",
    "print (f\"PRECISION : RF={precision_score(y_test_over,rf_pred,average='macro'):.3f}, LR={precision_score(y_test_over,lr_pred,average='macro'):.3f}\")\n",
    "print (f\"RECALL    : RF={recall_score(y_test_over,rf_pred,average='macro'):.3f}, LR={recall_score(y_test_over,lr_pred,average='macro'):.3f}\")"
   ]
  },
  {
   "cell_type": "markdown",
   "metadata": {},
   "source": [
    "Random Forest algorithm shows better perfomance accors all metrics => choose it"
   ]
  },
  {
   "cell_type": "code",
   "execution_count": null,
   "metadata": {},
   "outputs": [],
   "source": [
    "rf_grid.best_params_"
   ]
  },
  {
   "cell_type": "code",
   "execution_count": null,
   "metadata": {},
   "outputs": [],
   "source": [
    "from sklearn.metrics import confusion_matrix\n",
    "confusion_matrix(y_test_over,rf_pred)"
   ]
  },
  {
   "cell_type": "markdown",
   "metadata": {},
   "source": [
    "Our classifier is marking:\n",
    "1. Catholics as Other Christian\n",
    "2. Ethnic as Other Christian or Muslim\n",
    "3. Marxist as Catholic\n",
    "\n",
    "All in all error are quite rare and in some cases can be explained by cultural similarity"
   ]
  },
  {
   "cell_type": "code",
   "execution_count": null,
   "metadata": {},
   "outputs": [],
   "source": [
    "rf_best = RandomForestClassifier(max_depth = 10, min_samples_leaf = 1, n_estimators = 1000, n_jobs= -1, random_state= 42)\n",
    "rf_best.fit(X_train_over,y_train_over)"
   ]
  },
  {
   "cell_type": "code",
   "execution_count": null,
   "metadata": {},
   "outputs": [],
   "source": [
    "feat_imp_dict = {col:np.round(imp,3) for col,imp in zip(X_over.columns,rf_best.feature_importances_)}\n",
    "feat_imp_dict = np.array(sorted(feat_imp_dict.items(),key=lambda x:x[1]))\n",
    "labels = list(feat_imp_dict[:,0])\n",
    "importances = list(feat_imp_dict[:,1])\n",
    "y_pos = np.arange(len(labels))\n",
    "\n",
    "plt.figure(figsize=(15,15))\n",
    "plt.barh(y_pos,importances,align='center')\n",
    "plt.yticks(y_pos, labels)\n",
    "_ = plt.show()"
   ]
  },
  {
   "cell_type": "markdown",
   "metadata": {},
   "source": [
    "Feature importance plot match with natural understanding of topic: language, location, area and population are most contirbuting features. At the same time there is no real leader - contribution is quite shared accross features, which is good for model prediction power and explainability."
   ]
  }
 ],
 "metadata": {
  "kernelspec": {
   "display_name": "Python 3",
   "language": "python",
   "name": "python3"
  },
  "language_info": {
   "codemirror_mode": {
    "name": "ipython",
    "version": 3
   },
   "file_extension": ".py",
   "mimetype": "text/x-python",
   "name": "python",
   "nbconvert_exporter": "python",
   "pygments_lexer": "ipython3",
   "version": "3.7.1"
  }
 },
 "nbformat": 4,
 "nbformat_minor": 2
}