{
 "cells": [
  {
   "cell_type": "code",
   "execution_count": 5,
   "metadata": {},
   "outputs": [],
   "source": [
    "import pandas as pd\n",
    "import numpy as np\n",
    "\n",
    "# from tqdm.notebook import tqdm\n",
    "\n",
    "from sklearn.feature_extraction.text import TfidfTransformer, CountVectorizer\n",
    "from sklearn.neighbors import NearestNeighbors\n",
    "\n",
    "%matplotlib inline"
   ]
  },
  {
   "cell_type": "code",
   "execution_count": 6,
   "metadata": {},
   "outputs": [],
   "source": [
    "links = pd.read_csv(r'C:\\Users\\laptop\\PycharmProjects\\des_tree_clf_titanik\\Classwork\\data\\links.csv')\n",
    "movies = pd.read_csv(r'C:\\Users\\laptop\\PycharmProjects\\des_tree_clf_titanik\\Classwork\\data\\movies.csv')\n",
    "ratings = pd.read_csv(r'C:\\Users\\laptop\\PycharmProjects\\des_tree_clf_titanik\\Classwork\\data\\ratings.csv')\n",
    "tags = pd.read_csv(r'C:\\Users\\laptop\\PycharmProjects\\des_tree_clf_titanik\\Classwork\\data\\tags.csv')"
   ]
  },
  {
   "cell_type": "code",
   "execution_count": 7,
   "metadata": {},
   "outputs": [
    {
     "data": {
      "text/plain": "   movieId                               title  \\\n0        1                    Toy Story (1995)   \n1        2                      Jumanji (1995)   \n2        3             Grumpier Old Men (1995)   \n3        4            Waiting to Exhale (1995)   \n4        5  Father of the Bride Part II (1995)   \n5        6                         Heat (1995)   \n6        7                      Sabrina (1995)   \n7        8                 Tom and Huck (1995)   \n8        9                 Sudden Death (1995)   \n9       10                    GoldenEye (1995)   \n\n                                        genres  \n0  Adventure|Animation|Children|Comedy|Fantasy  \n1                   Adventure|Children|Fantasy  \n2                               Comedy|Romance  \n3                         Comedy|Drama|Romance  \n4                                       Comedy  \n5                        Action|Crime|Thriller  \n6                               Comedy|Romance  \n7                           Adventure|Children  \n8                                       Action  \n9                    Action|Adventure|Thriller  ",
      "text/html": "<div>\n<style scoped>\n    .dataframe tbody tr th:only-of-type {\n        vertical-align: middle;\n    }\n\n    .dataframe tbody tr th {\n        vertical-align: top;\n    }\n\n    .dataframe thead th {\n        text-align: right;\n    }\n</style>\n<table border=\"1\" class=\"dataframe\">\n  <thead>\n    <tr style=\"text-align: right;\">\n      <th></th>\n      <th>movieId</th>\n      <th>title</th>\n      <th>genres</th>\n    </tr>\n  </thead>\n  <tbody>\n    <tr>\n      <th>0</th>\n      <td>1</td>\n      <td>Toy Story (1995)</td>\n      <td>Adventure|Animation|Children|Comedy|Fantasy</td>\n    </tr>\n    <tr>\n      <th>1</th>\n      <td>2</td>\n      <td>Jumanji (1995)</td>\n      <td>Adventure|Children|Fantasy</td>\n    </tr>\n    <tr>\n      <th>2</th>\n      <td>3</td>\n      <td>Grumpier Old Men (1995)</td>\n      <td>Comedy|Romance</td>\n    </tr>\n    <tr>\n      <th>3</th>\n      <td>4</td>\n      <td>Waiting to Exhale (1995)</td>\n      <td>Comedy|Drama|Romance</td>\n    </tr>\n    <tr>\n      <th>4</th>\n      <td>5</td>\n      <td>Father of the Bride Part II (1995)</td>\n      <td>Comedy</td>\n    </tr>\n    <tr>\n      <th>5</th>\n      <td>6</td>\n      <td>Heat (1995)</td>\n      <td>Action|Crime|Thriller</td>\n    </tr>\n    <tr>\n      <th>6</th>\n      <td>7</td>\n      <td>Sabrina (1995)</td>\n      <td>Comedy|Romance</td>\n    </tr>\n    <tr>\n      <th>7</th>\n      <td>8</td>\n      <td>Tom and Huck (1995)</td>\n      <td>Adventure|Children</td>\n    </tr>\n    <tr>\n      <th>8</th>\n      <td>9</td>\n      <td>Sudden Death (1995)</td>\n      <td>Action</td>\n    </tr>\n    <tr>\n      <th>9</th>\n      <td>10</td>\n      <td>GoldenEye (1995)</td>\n      <td>Action|Adventure|Thriller</td>\n    </tr>\n  </tbody>\n</table>\n</div>"
     },
     "execution_count": 7,
     "metadata": {},
     "output_type": "execute_result"
    }
   ],
   "source": [
    "movies.head(10)"
   ]
  },
  {
   "cell_type": "code",
   "execution_count": 8,
   "metadata": {},
   "outputs": [],
   "source": [
    "def change_string(s):\n",
    "    return ' '.join(s.replace(' ', '').replace('-', '').split('|'))"
   ]
  },
  {
   "cell_type": "code",
   "execution_count": 9,
   "metadata": {},
   "outputs": [],
   "source": [
    "movie_genres = [change_string(g) for g in movies.genres.values]"
   ]
  },
  {
   "cell_type": "code",
   "execution_count": 6,
   "metadata": {},
   "outputs": [],
   "source": [
    "count_vect = CountVectorizer()\n",
    "X_train_counts = count_vect.fit_transform(movie_genres)"
   ]
  },
  {
   "cell_type": "code",
   "execution_count": 7,
   "metadata": {},
   "outputs": [],
   "source": [
    "tfidf_transformer = TfidfTransformer()\n",
    "X_train_tfidf = tfidf_transformer.fit_transform(X_train_counts)"
   ]
  },
  {
   "cell_type": "code",
   "execution_count": 8,
   "metadata": {},
   "outputs": [
    {
     "data": {
      "text/plain": "NearestNeighbors(metric='euclidean', n_jobs=-1, n_neighbors=7)"
     },
     "execution_count": 8,
     "metadata": {},
     "output_type": "execute_result"
    }
   ],
   "source": [
    "neigh = NearestNeighbors(n_neighbors=7, n_jobs=-1, metric='euclidean') \n",
    "neigh.fit(X_train_tfidf)"
   ]
  },
  {
   "cell_type": "code",
   "execution_count": 9,
   "metadata": {},
   "outputs": [],
   "source": [
    "test = change_string(\"Adventure|Comedy|Fantasy|Crime\")\n",
    "\n",
    "predict = count_vect.transform([test])\n",
    "X_tfidf2 = tfidf_transformer.transform(predict)\n",
    "\n",
    "res = neigh.kneighbors(X_tfidf2, return_distance=True)"
   ]
  },
  {
   "cell_type": "code",
   "execution_count": 10,
   "metadata": {},
   "outputs": [
    {
     "data": {
      "text/plain": "(array([[0.42079615, 0.53300564, 0.54288608, 0.54288608, 0.54288608,\n         0.54288608, 0.54288608]]),\n array([[6774, 9096, 5636, 6723, 3376, 7496, 9717]], dtype=int32))"
     },
     "execution_count": 10,
     "metadata": {},
     "output_type": "execute_result"
    }
   ],
   "source": [
    "res"
   ]
  },
  {
   "cell_type": "code",
   "execution_count": 11,
   "metadata": {},
   "outputs": [
    {
     "data": {
      "text/plain": "      movieId                                              title  \\\n6774    60074                                     Hancock (2008)   \n9096   143559                                L.A. Slasher (2015)   \n5636    27368  Asterix & Obelix: Mission Cleopatra (Astérix &...   \n6723    58972                                Nim's Island (2008)   \n3376     4591                             Erik the Viking (1989)   \n7496    82854                          Gulliver's Travels (2010)   \n9717   188833              The Man Who Killed Don Quixote (2018)   \n\n                                     genres  \n6774  Action|Adventure|Comedy|Crime|Fantasy  \n9096                   Comedy|Crime|Fantasy  \n5636               Adventure|Comedy|Fantasy  \n6723               Adventure|Comedy|Fantasy  \n3376               Adventure|Comedy|Fantasy  \n7496               Adventure|Comedy|Fantasy  \n9717               Adventure|Comedy|Fantasy  ",
      "text/html": "<div>\n<style scoped>\n    .dataframe tbody tr th:only-of-type {\n        vertical-align: middle;\n    }\n\n    .dataframe tbody tr th {\n        vertical-align: top;\n    }\n\n    .dataframe thead th {\n        text-align: right;\n    }\n</style>\n<table border=\"1\" class=\"dataframe\">\n  <thead>\n    <tr style=\"text-align: right;\">\n      <th></th>\n      <th>movieId</th>\n      <th>title</th>\n      <th>genres</th>\n    </tr>\n  </thead>\n  <tbody>\n    <tr>\n      <th>6774</th>\n      <td>60074</td>\n      <td>Hancock (2008)</td>\n      <td>Action|Adventure|Comedy|Crime|Fantasy</td>\n    </tr>\n    <tr>\n      <th>9096</th>\n      <td>143559</td>\n      <td>L.A. Slasher (2015)</td>\n      <td>Comedy|Crime|Fantasy</td>\n    </tr>\n    <tr>\n      <th>5636</th>\n      <td>27368</td>\n      <td>Asterix &amp; Obelix: Mission Cleopatra (Astérix &amp;...</td>\n      <td>Adventure|Comedy|Fantasy</td>\n    </tr>\n    <tr>\n      <th>6723</th>\n      <td>58972</td>\n      <td>Nim's Island (2008)</td>\n      <td>Adventure|Comedy|Fantasy</td>\n    </tr>\n    <tr>\n      <th>3376</th>\n      <td>4591</td>\n      <td>Erik the Viking (1989)</td>\n      <td>Adventure|Comedy|Fantasy</td>\n    </tr>\n    <tr>\n      <th>7496</th>\n      <td>82854</td>\n      <td>Gulliver's Travels (2010)</td>\n      <td>Adventure|Comedy|Fantasy</td>\n    </tr>\n    <tr>\n      <th>9717</th>\n      <td>188833</td>\n      <td>The Man Who Killed Don Quixote (2018)</td>\n      <td>Adventure|Comedy|Fantasy</td>\n    </tr>\n  </tbody>\n</table>\n</div>"
     },
     "execution_count": 11,
     "metadata": {},
     "output_type": "execute_result"
    }
   ],
   "source": [
    "movies.iloc[res[1][0]]"
   ]
  },
  {
   "cell_type": "code",
   "execution_count": 10,
   "metadata": {},
   "outputs": [
    {
     "data": {
      "text/plain": "   movieId                               title  \\\n0        1                    Toy Story (1995)   \n1        2                      Jumanji (1995)   \n2        3             Grumpier Old Men (1995)   \n3        4            Waiting to Exhale (1995)   \n4        5  Father of the Bride Part II (1995)   \n\n                                        genres  \n0  Adventure|Animation|Children|Comedy|Fantasy  \n1                   Adventure|Children|Fantasy  \n2                               Comedy|Romance  \n3                         Comedy|Drama|Romance  \n4                                       Comedy  ",
      "text/html": "<div>\n<style scoped>\n    .dataframe tbody tr th:only-of-type {\n        vertical-align: middle;\n    }\n\n    .dataframe tbody tr th {\n        vertical-align: top;\n    }\n\n    .dataframe thead th {\n        text-align: right;\n    }\n</style>\n<table border=\"1\" class=\"dataframe\">\n  <thead>\n    <tr style=\"text-align: right;\">\n      <th></th>\n      <th>movieId</th>\n      <th>title</th>\n      <th>genres</th>\n    </tr>\n  </thead>\n  <tbody>\n    <tr>\n      <th>0</th>\n      <td>1</td>\n      <td>Toy Story (1995)</td>\n      <td>Adventure|Animation|Children|Comedy|Fantasy</td>\n    </tr>\n    <tr>\n      <th>1</th>\n      <td>2</td>\n      <td>Jumanji (1995)</td>\n      <td>Adventure|Children|Fantasy</td>\n    </tr>\n    <tr>\n      <th>2</th>\n      <td>3</td>\n      <td>Grumpier Old Men (1995)</td>\n      <td>Comedy|Romance</td>\n    </tr>\n    <tr>\n      <th>3</th>\n      <td>4</td>\n      <td>Waiting to Exhale (1995)</td>\n      <td>Comedy|Drama|Romance</td>\n    </tr>\n    <tr>\n      <th>4</th>\n      <td>5</td>\n      <td>Father of the Bride Part II (1995)</td>\n      <td>Comedy</td>\n    </tr>\n  </tbody>\n</table>\n</div>"
     },
     "execution_count": 10,
     "metadata": {},
     "output_type": "execute_result"
    }
   ],
   "source": [
    "movies.head()"
   ]
  },
  {
   "cell_type": "code",
   "execution_count": 6,
   "metadata": {},
   "outputs": [
    {
     "data": {
      "text/plain": "   userId  movieId              tag   timestamp\n0       2    60756            funny  1445714994\n1       2    60756  Highly quotable  1445714996\n2       2    60756     will ferrell  1445714992\n3       2    89774     Boxing story  1445715207\n4       2    89774              MMA  1445715200",
      "text/html": "<div>\n<style scoped>\n    .dataframe tbody tr th:only-of-type {\n        vertical-align: middle;\n    }\n\n    .dataframe tbody tr th {\n        vertical-align: top;\n    }\n\n    .dataframe thead th {\n        text-align: right;\n    }\n</style>\n<table border=\"1\" class=\"dataframe\">\n  <thead>\n    <tr style=\"text-align: right;\">\n      <th></th>\n      <th>userId</th>\n      <th>movieId</th>\n      <th>tag</th>\n      <th>timestamp</th>\n    </tr>\n  </thead>\n  <tbody>\n    <tr>\n      <th>0</th>\n      <td>2</td>\n      <td>60756</td>\n      <td>funny</td>\n      <td>1445714994</td>\n    </tr>\n    <tr>\n      <th>1</th>\n      <td>2</td>\n      <td>60756</td>\n      <td>Highly quotable</td>\n      <td>1445714996</td>\n    </tr>\n    <tr>\n      <th>2</th>\n      <td>2</td>\n      <td>60756</td>\n      <td>will ferrell</td>\n      <td>1445714992</td>\n    </tr>\n    <tr>\n      <th>3</th>\n      <td>2</td>\n      <td>89774</td>\n      <td>Boxing story</td>\n      <td>1445715207</td>\n    </tr>\n    <tr>\n      <th>4</th>\n      <td>2</td>\n      <td>89774</td>\n      <td>MMA</td>\n      <td>1445715200</td>\n    </tr>\n  </tbody>\n</table>\n</div>"
     },
     "execution_count": 6,
     "metadata": {},
     "output_type": "execute_result"
    }
   ],
   "source": [
    "tags.head()"
   ]
  },
  {
   "cell_type": "code",
   "execution_count": 11,
   "metadata": {},
   "outputs": [],
   "source": [
    "movies_with_tags = movies.join(tags.set_index('movieId'), on='movieId')"
   ]
  },
  {
   "cell_type": "code",
   "execution_count": 12,
   "metadata": {},
   "outputs": [
    {
     "data": {
      "text/plain": "   movieId             title                                       genres  \\\n0        1  Toy Story (1995)  Adventure|Animation|Children|Comedy|Fantasy   \n0        1  Toy Story (1995)  Adventure|Animation|Children|Comedy|Fantasy   \n0        1  Toy Story (1995)  Adventure|Animation|Children|Comedy|Fantasy   \n1        2    Jumanji (1995)                   Adventure|Children|Fantasy   \n1        2    Jumanji (1995)                   Adventure|Children|Fantasy   \n\n   userId               tag     timestamp  \n0   336.0             pixar  1.139046e+09  \n0   474.0             pixar  1.137207e+09  \n0   567.0               fun  1.525286e+09  \n1    62.0           fantasy  1.528844e+09  \n1    62.0  magic board game  1.528844e+09  ",
      "text/html": "<div>\n<style scoped>\n    .dataframe tbody tr th:only-of-type {\n        vertical-align: middle;\n    }\n\n    .dataframe tbody tr th {\n        vertical-align: top;\n    }\n\n    .dataframe thead th {\n        text-align: right;\n    }\n</style>\n<table border=\"1\" class=\"dataframe\">\n  <thead>\n    <tr style=\"text-align: right;\">\n      <th></th>\n      <th>movieId</th>\n      <th>title</th>\n      <th>genres</th>\n      <th>userId</th>\n      <th>tag</th>\n      <th>timestamp</th>\n    </tr>\n  </thead>\n  <tbody>\n    <tr>\n      <th>0</th>\n      <td>1</td>\n      <td>Toy Story (1995)</td>\n      <td>Adventure|Animation|Children|Comedy|Fantasy</td>\n      <td>336.0</td>\n      <td>pixar</td>\n      <td>1.139046e+09</td>\n    </tr>\n    <tr>\n      <th>0</th>\n      <td>1</td>\n      <td>Toy Story (1995)</td>\n      <td>Adventure|Animation|Children|Comedy|Fantasy</td>\n      <td>474.0</td>\n      <td>pixar</td>\n      <td>1.137207e+09</td>\n    </tr>\n    <tr>\n      <th>0</th>\n      <td>1</td>\n      <td>Toy Story (1995)</td>\n      <td>Adventure|Animation|Children|Comedy|Fantasy</td>\n      <td>567.0</td>\n      <td>fun</td>\n      <td>1.525286e+09</td>\n    </tr>\n    <tr>\n      <th>1</th>\n      <td>2</td>\n      <td>Jumanji (1995)</td>\n      <td>Adventure|Children|Fantasy</td>\n      <td>62.0</td>\n      <td>fantasy</td>\n      <td>1.528844e+09</td>\n    </tr>\n    <tr>\n      <th>1</th>\n      <td>2</td>\n      <td>Jumanji (1995)</td>\n      <td>Adventure|Children|Fantasy</td>\n      <td>62.0</td>\n      <td>magic board game</td>\n      <td>1.528844e+09</td>\n    </tr>\n  </tbody>\n</table>\n</div>"
     },
     "execution_count": 12,
     "metadata": {},
     "output_type": "execute_result"
    }
   ],
   "source": [
    "movies_with_tags.head()"
   ]
  },
  {
   "cell_type": "code",
   "execution_count": 8,
   "metadata": {},
   "outputs": [
    {
     "data": {
      "text/plain": "   movieId             title                                       genres  \\\n0        1  Toy Story (1995)  Adventure|Animation|Children|Comedy|Fantasy   \n0        1  Toy Story (1995)  Adventure|Animation|Children|Comedy|Fantasy   \n0        1  Toy Story (1995)  Adventure|Animation|Children|Comedy|Fantasy   \n\n   userId    tag     timestamp  \n0   336.0  pixar  1.139046e+09  \n0   474.0  pixar  1.137207e+09  \n0   567.0    fun  1.525286e+09  ",
      "text/html": "<div>\n<style scoped>\n    .dataframe tbody tr th:only-of-type {\n        vertical-align: middle;\n    }\n\n    .dataframe tbody tr th {\n        vertical-align: top;\n    }\n\n    .dataframe thead th {\n        text-align: right;\n    }\n</style>\n<table border=\"1\" class=\"dataframe\">\n  <thead>\n    <tr style=\"text-align: right;\">\n      <th></th>\n      <th>movieId</th>\n      <th>title</th>\n      <th>genres</th>\n      <th>userId</th>\n      <th>tag</th>\n      <th>timestamp</th>\n    </tr>\n  </thead>\n  <tbody>\n    <tr>\n      <th>0</th>\n      <td>1</td>\n      <td>Toy Story (1995)</td>\n      <td>Adventure|Animation|Children|Comedy|Fantasy</td>\n      <td>336.0</td>\n      <td>pixar</td>\n      <td>1.139046e+09</td>\n    </tr>\n    <tr>\n      <th>0</th>\n      <td>1</td>\n      <td>Toy Story (1995)</td>\n      <td>Adventure|Animation|Children|Comedy|Fantasy</td>\n      <td>474.0</td>\n      <td>pixar</td>\n      <td>1.137207e+09</td>\n    </tr>\n    <tr>\n      <th>0</th>\n      <td>1</td>\n      <td>Toy Story (1995)</td>\n      <td>Adventure|Animation|Children|Comedy|Fantasy</td>\n      <td>567.0</td>\n      <td>fun</td>\n      <td>1.525286e+09</td>\n    </tr>\n  </tbody>\n</table>\n</div>"
     },
     "execution_count": 8,
     "metadata": {},
     "output_type": "execute_result"
    }
   ],
   "source": [
    "movies_with_tags[movies_with_tags.title == 'Toy Story (1995)']"
   ]
  },
  {
   "cell_type": "code",
   "execution_count": 14,
   "metadata": {},
   "outputs": [
    {
     "data": {
      "text/plain": "   movieId             title                                       genres  \\\n0        1  Toy Story (1995)  Adventure|Animation|Children|Comedy|Fantasy   \n0        1  Toy Story (1995)  Adventure|Animation|Children|Comedy|Fantasy   \n0        1  Toy Story (1995)  Adventure|Animation|Children|Comedy|Fantasy   \n1        2    Jumanji (1995)                   Adventure|Children|Fantasy   \n1        2    Jumanji (1995)                   Adventure|Children|Fantasy   \n\n   userId               tag     timestamp  \n0   336.0             pixar  1.139046e+09  \n0   474.0             pixar  1.137207e+09  \n0   567.0               fun  1.525286e+09  \n1    62.0           fantasy  1.528844e+09  \n1    62.0  magic board game  1.528844e+09  ",
      "text/html": "<div>\n<style scoped>\n    .dataframe tbody tr th:only-of-type {\n        vertical-align: middle;\n    }\n\n    .dataframe tbody tr th {\n        vertical-align: top;\n    }\n\n    .dataframe thead th {\n        text-align: right;\n    }\n</style>\n<table border=\"1\" class=\"dataframe\">\n  <thead>\n    <tr style=\"text-align: right;\">\n      <th></th>\n      <th>movieId</th>\n      <th>title</th>\n      <th>genres</th>\n      <th>userId</th>\n      <th>tag</th>\n      <th>timestamp</th>\n    </tr>\n  </thead>\n  <tbody>\n    <tr>\n      <th>0</th>\n      <td>1</td>\n      <td>Toy Story (1995)</td>\n      <td>Adventure|Animation|Children|Comedy|Fantasy</td>\n      <td>336.0</td>\n      <td>pixar</td>\n      <td>1.139046e+09</td>\n    </tr>\n    <tr>\n      <th>0</th>\n      <td>1</td>\n      <td>Toy Story (1995)</td>\n      <td>Adventure|Animation|Children|Comedy|Fantasy</td>\n      <td>474.0</td>\n      <td>pixar</td>\n      <td>1.137207e+09</td>\n    </tr>\n    <tr>\n      <th>0</th>\n      <td>1</td>\n      <td>Toy Story (1995)</td>\n      <td>Adventure|Animation|Children|Comedy|Fantasy</td>\n      <td>567.0</td>\n      <td>fun</td>\n      <td>1.525286e+09</td>\n    </tr>\n    <tr>\n      <th>1</th>\n      <td>2</td>\n      <td>Jumanji (1995)</td>\n      <td>Adventure|Children|Fantasy</td>\n      <td>62.0</td>\n      <td>fantasy</td>\n      <td>1.528844e+09</td>\n    </tr>\n    <tr>\n      <th>1</th>\n      <td>2</td>\n      <td>Jumanji (1995)</td>\n      <td>Adventure|Children|Fantasy</td>\n      <td>62.0</td>\n      <td>magic board game</td>\n      <td>1.528844e+09</td>\n    </tr>\n  </tbody>\n</table>\n</div>"
     },
     "execution_count": 14,
     "metadata": {},
     "output_type": "execute_result"
    }
   ],
   "source": [
    "movies_with_tags.head()"
   ]
  },
  {
   "cell_type": "code",
   "execution_count": 18,
   "metadata": {},
   "outputs": [
    {
     "data": {
      "text/plain": "(1590,)"
     },
     "execution_count": 18,
     "metadata": {},
     "output_type": "execute_result"
    }
   ],
   "source": [
    "movies_with_tags.tag.unique().shape"
   ]
  },
  {
   "cell_type": "code",
   "execution_count": 10,
   "metadata": {},
   "outputs": [],
   "source": [
    "movies_with_tags.dropna(inplace=True)"
   ]
  },
  {
   "cell_type": "code",
   "execution_count": 13,
   "metadata": {},
   "outputs": [
    {
     "data": {
      "text/plain": "      movieId                           title  \\\n0           1                Toy Story (1995)   \n0           1                Toy Story (1995)   \n0           1                Toy Story (1995)   \n1           2                  Jumanji (1995)   \n1           2                  Jumanji (1995)   \n...       ...                             ...   \n9710   187595  Solo: A Star Wars Story (2018)   \n9732   193565       Gintama: The Movie (2010)   \n9732   193565       Gintama: The Movie (2010)   \n9732   193565       Gintama: The Movie (2010)   \n9732   193565       Gintama: The Movie (2010)   \n\n                                           genres  userId               tag  \\\n0     Adventure|Animation|Children|Comedy|Fantasy   336.0             pixar   \n0     Adventure|Animation|Children|Comedy|Fantasy   474.0             pixar   \n0     Adventure|Animation|Children|Comedy|Fantasy   567.0               fun   \n1                      Adventure|Children|Fantasy    62.0           fantasy   \n1                      Adventure|Children|Fantasy    62.0  magic board game   \n...                                           ...     ...               ...   \n9710             Action|Adventure|Children|Sci-Fi    62.0         star wars   \n9732               Action|Animation|Comedy|Sci-Fi   184.0             anime   \n9732               Action|Animation|Comedy|Sci-Fi   184.0            comedy   \n9732               Action|Animation|Comedy|Sci-Fi   184.0           gintama   \n9732               Action|Animation|Comedy|Sci-Fi   184.0          remaster   \n\n         timestamp  \n0     1.139046e+09  \n0     1.137207e+09  \n0     1.525286e+09  \n1     1.528844e+09  \n1     1.528844e+09  \n...            ...  \n9710  1.528935e+09  \n9732  1.537099e+09  \n9732  1.537099e+09  \n9732  1.537099e+09  \n9732  1.537099e+09  \n\n[2851 rows x 6 columns]",
      "text/html": "<div>\n<style scoped>\n    .dataframe tbody tr th:only-of-type {\n        vertical-align: middle;\n    }\n\n    .dataframe tbody tr th {\n        vertical-align: top;\n    }\n\n    .dataframe thead th {\n        text-align: right;\n    }\n</style>\n<table border=\"1\" class=\"dataframe\">\n  <thead>\n    <tr style=\"text-align: right;\">\n      <th></th>\n      <th>movieId</th>\n      <th>title</th>\n      <th>genres</th>\n      <th>userId</th>\n      <th>tag</th>\n      <th>timestamp</th>\n    </tr>\n  </thead>\n  <tbody>\n    <tr>\n      <th>0</th>\n      <td>1</td>\n      <td>Toy Story (1995)</td>\n      <td>Adventure|Animation|Children|Comedy|Fantasy</td>\n      <td>336.0</td>\n      <td>pixar</td>\n      <td>1.139046e+09</td>\n    </tr>\n    <tr>\n      <th>0</th>\n      <td>1</td>\n      <td>Toy Story (1995)</td>\n      <td>Adventure|Animation|Children|Comedy|Fantasy</td>\n      <td>474.0</td>\n      <td>pixar</td>\n      <td>1.137207e+09</td>\n    </tr>\n    <tr>\n      <th>0</th>\n      <td>1</td>\n      <td>Toy Story (1995)</td>\n      <td>Adventure|Animation|Children|Comedy|Fantasy</td>\n      <td>567.0</td>\n      <td>fun</td>\n      <td>1.525286e+09</td>\n    </tr>\n    <tr>\n      <th>1</th>\n      <td>2</td>\n      <td>Jumanji (1995)</td>\n      <td>Adventure|Children|Fantasy</td>\n      <td>62.0</td>\n      <td>fantasy</td>\n      <td>1.528844e+09</td>\n    </tr>\n    <tr>\n      <th>1</th>\n      <td>2</td>\n      <td>Jumanji (1995)</td>\n      <td>Adventure|Children|Fantasy</td>\n      <td>62.0</td>\n      <td>magic board game</td>\n      <td>1.528844e+09</td>\n    </tr>\n    <tr>\n      <th>...</th>\n      <td>...</td>\n      <td>...</td>\n      <td>...</td>\n      <td>...</td>\n      <td>...</td>\n      <td>...</td>\n    </tr>\n    <tr>\n      <th>9710</th>\n      <td>187595</td>\n      <td>Solo: A Star Wars Story (2018)</td>\n      <td>Action|Adventure|Children|Sci-Fi</td>\n      <td>62.0</td>\n      <td>star wars</td>\n      <td>1.528935e+09</td>\n    </tr>\n    <tr>\n      <th>9732</th>\n      <td>193565</td>\n      <td>Gintama: The Movie (2010)</td>\n      <td>Action|Animation|Comedy|Sci-Fi</td>\n      <td>184.0</td>\n      <td>anime</td>\n      <td>1.537099e+09</td>\n    </tr>\n    <tr>\n      <th>9732</th>\n      <td>193565</td>\n      <td>Gintama: The Movie (2010)</td>\n      <td>Action|Animation|Comedy|Sci-Fi</td>\n      <td>184.0</td>\n      <td>comedy</td>\n      <td>1.537099e+09</td>\n    </tr>\n    <tr>\n      <th>9732</th>\n      <td>193565</td>\n      <td>Gintama: The Movie (2010)</td>\n      <td>Action|Animation|Comedy|Sci-Fi</td>\n      <td>184.0</td>\n      <td>gintama</td>\n      <td>1.537099e+09</td>\n    </tr>\n    <tr>\n      <th>9732</th>\n      <td>193565</td>\n      <td>Gintama: The Movie (2010)</td>\n      <td>Action|Animation|Comedy|Sci-Fi</td>\n      <td>184.0</td>\n      <td>remaster</td>\n      <td>1.537099e+09</td>\n    </tr>\n  </tbody>\n</table>\n<p>2851 rows × 6 columns</p>\n</div>"
     },
     "execution_count": 13,
     "metadata": {},
     "output_type": "execute_result"
    }
   ],
   "source": [
    "movies_with_tags.groupby('title').head()"
   ]
  },
  {
   "cell_type": "code",
   "execution_count": 13,
   "metadata": {},
   "outputs": [],
   "source": [
    "tag_strings = []\n",
    "movies = []\n",
    "\n",
    "for movie, group in movies_with_tags.groupby('title'):\n",
    "    # print(group.tag.head)\n",
    "    # print(movie.)\n",
    "    tag_strings.append(' '.join([str(s).replace(' ', '').replace('-', '') for s in group.tag.values]))\n",
    "    movies.append(movie)"
   ]
  },
  {
   "cell_type": "code",
   "execution_count": 17,
   "metadata": {},
   "outputs": [
    {
     "data": {
      "text/plain": "['nan',\n 'nan',\n 'nan',\n 'nan',\n 'nan',\n 'nan',\n 'nan',\n 'nan',\n 'artistic Funny humorous inspiring intelligent quirky romance ZooeyDeschanel',\n 'nan']"
     },
     "execution_count": 17,
     "metadata": {},
     "output_type": "execute_result"
    }
   ],
   "source": [
    "tag_strings[:10]"
   ]
  },
  {
   "cell_type": "code",
   "execution_count": 16,
   "outputs": [
    {
     "data": {
      "text/plain": "[\"'71 (2014)\",\n \"'Hellboy': The Seeds of Creation (2004)\",\n \"'Round Midnight (1986)\",\n \"'Salem's Lot (2004)\",\n \"'Til There Was You (1997)\",\n \"'Tis the Season for Love (2015)\",\n \"'burbs, The (1989)\",\n \"'night Mother (1986)\",\n '(500) Days of Summer (2009)',\n '*batteries not included (1987)']"
     },
     "execution_count": 16,
     "metadata": {},
     "output_type": "execute_result"
    }
   ],
   "source": [
    "movies[:10]"
   ],
   "metadata": {
    "collapsed": false,
    "pycharm": {
     "name": "#%%\n"
    }
   }
  },
  {
   "cell_type": "code",
   "execution_count": 12,
   "outputs": [
    {
     "data": {
      "text/plain": "   movieId             title                                       genres  \\\n0        1  Toy Story (1995)  Adventure|Animation|Children|Comedy|Fantasy   \n0        1  Toy Story (1995)  Adventure|Animation|Children|Comedy|Fantasy   \n0        1  Toy Story (1995)  Adventure|Animation|Children|Comedy|Fantasy   \n1        2    Jumanji (1995)                   Adventure|Children|Fantasy   \n1        2    Jumanji (1995)                   Adventure|Children|Fantasy   \n\n   userId               tag     timestamp  \n0   336.0             pixar  1.139046e+09  \n0   474.0             pixar  1.137207e+09  \n0   567.0               fun  1.525286e+09  \n1    62.0           fantasy  1.528844e+09  \n1    62.0  magic board game  1.528844e+09  ",
      "text/html": "<div>\n<style scoped>\n    .dataframe tbody tr th:only-of-type {\n        vertical-align: middle;\n    }\n\n    .dataframe tbody tr th {\n        vertical-align: top;\n    }\n\n    .dataframe thead th {\n        text-align: right;\n    }\n</style>\n<table border=\"1\" class=\"dataframe\">\n  <thead>\n    <tr style=\"text-align: right;\">\n      <th></th>\n      <th>movieId</th>\n      <th>title</th>\n      <th>genres</th>\n      <th>userId</th>\n      <th>tag</th>\n      <th>timestamp</th>\n    </tr>\n  </thead>\n  <tbody>\n    <tr>\n      <th>0</th>\n      <td>1</td>\n      <td>Toy Story (1995)</td>\n      <td>Adventure|Animation|Children|Comedy|Fantasy</td>\n      <td>336.0</td>\n      <td>pixar</td>\n      <td>1.139046e+09</td>\n    </tr>\n    <tr>\n      <th>0</th>\n      <td>1</td>\n      <td>Toy Story (1995)</td>\n      <td>Adventure|Animation|Children|Comedy|Fantasy</td>\n      <td>474.0</td>\n      <td>pixar</td>\n      <td>1.137207e+09</td>\n    </tr>\n    <tr>\n      <th>0</th>\n      <td>1</td>\n      <td>Toy Story (1995)</td>\n      <td>Adventure|Animation|Children|Comedy|Fantasy</td>\n      <td>567.0</td>\n      <td>fun</td>\n      <td>1.525286e+09</td>\n    </tr>\n    <tr>\n      <th>1</th>\n      <td>2</td>\n      <td>Jumanji (1995)</td>\n      <td>Adventure|Children|Fantasy</td>\n      <td>62.0</td>\n      <td>fantasy</td>\n      <td>1.528844e+09</td>\n    </tr>\n    <tr>\n      <th>1</th>\n      <td>2</td>\n      <td>Jumanji (1995)</td>\n      <td>Adventure|Children|Fantasy</td>\n      <td>62.0</td>\n      <td>magic board game</td>\n      <td>1.528844e+09</td>\n    </tr>\n  </tbody>\n</table>\n</div>"
     },
     "execution_count": 12,
     "metadata": {},
     "output_type": "execute_result"
    }
   ],
   "source": [
    "movies_with_tags.head()"
   ],
   "metadata": {
    "collapsed": false,
    "pycharm": {
     "name": "#%%\n"
    }
   }
  },
  {
   "cell_type": "code",
   "execution_count": null,
   "metadata": {},
   "outputs": [],
   "source": [
    "count_vect = CountVectorizer()\n",
    "X_train_counts = count_vect.fit_transform(tag_strings)"
   ]
  },
  {
   "cell_type": "code",
   "execution_count": null,
   "metadata": {},
   "outputs": [],
   "source": [
    "tfidf_transformer = TfidfTransformer()\n",
    "X_train_tfidf = tfidf_transformer.fit_transform(X_train_counts)"
   ]
  },
  {
   "cell_type": "code",
   "execution_count": null,
   "metadata": {},
   "outputs": [],
   "source": [
    "neigh = NearestNeighbors(n_neighbors=10, n_jobs=-1, metric='manhattan') \n",
    "neigh.fit(X_train_tfidf)"
   ]
  },
  {
   "cell_type": "code",
   "execution_count": null,
   "metadata": {},
   "outputs": [],
   "source": [
    "for i in range(len(movies)):\n",
    "    if 'Magnolia (1999)' == movies[i]:\n",
    "        print(i)"
   ]
  },
  {
   "cell_type": "code",
   "execution_count": null,
   "metadata": {},
   "outputs": [],
   "source": [
    "tag_strings[822]"
   ]
  },
  {
   "cell_type": "code",
   "execution_count": null,
   "metadata": {},
   "outputs": [],
   "source": [
    "test = change_string('pixar pixar fun')\n",
    "\n",
    "predict = count_vect.transform([test])\n",
    "X_tfidf2 = tfidf_transformer.transform(predict)\n",
    "\n",
    "res = neigh.kneighbors(X_tfidf2, return_distance=True)"
   ]
  },
  {
   "cell_type": "code",
   "execution_count": null,
   "metadata": {},
   "outputs": [],
   "source": [
    "res"
   ]
  },
  {
   "cell_type": "code",
   "execution_count": null,
   "metadata": {},
   "outputs": [],
   "source": [
    "for i in res[1][0]:\n",
    "    print(movies[i])"
   ]
  },
  {
   "cell_type": "code",
   "execution_count": null,
   "metadata": {},
   "outputs": [],
   "source": []
  }
 ],
 "metadata": {
  "kernelspec": {
   "display_name": "Python 3",
   "language": "python",
   "name": "python3"
  },
  "language_info": {
   "codemirror_mode": {
    "name": "ipython",
    "version": 3
   },
   "file_extension": ".py",
   "mimetype": "text/x-python",
   "name": "python",
   "nbconvert_exporter": "python",
   "pygments_lexer": "ipython3",
   "version": "3.7.6"
  }
 },
 "nbformat": 4,
 "nbformat_minor": 4
}